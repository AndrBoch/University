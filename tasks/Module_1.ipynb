{
  "nbformat": 4,
  "nbformat_minor": 0,
  "metadata": {
    "colab": {
      "provenance": [],
      "include_colab_link": true
    },
    "kernelspec": {
      "name": "python3",
      "display_name": "Python 3"
    },
    "language_info": {
      "name": "python"
    }
  },
  "cells": [
    {
      "cell_type": "markdown",
      "metadata": {
        "id": "view-in-github",
        "colab_type": "text"
      },
      "source": [
        "<a href=\"https://colab.research.google.com/github/AndrBoch/University/blob/main/tasks/Module_1.ipynb\" target=\"_parent\"><img src=\"https://colab.research.google.com/assets/colab-badge.svg\" alt=\"Open In Colab\"/></a>"
      ]
    },
    {
      "cell_type": "markdown",
      "source": [
        "# **Практическая работа №1. Введение в Python. Функции ввода-вывода. Основные типы и структуры данных**\n",
        "\n",
        "---\n",
        "\n",
        "\n",
        "\n"
      ],
      "metadata": {
        "id": "wfO8faq6ZSPR"
      }
    },
    {
      "cell_type": "markdown",
      "source": [
        "**Обучающийся:** *Бочкарев Андрей Дмитриевич*  \n"
      ],
      "metadata": {
        "id": "s1lvsaUa1kGY"
      }
    },
    {
      "cell_type": "markdown",
      "source": [
        "---"
      ],
      "metadata": {
        "id": "Lmxdci5V1iUz"
      }
    },
    {
      "cell_type": "markdown",
      "source": [
        "## **Блок заданий №1. Функция `print`**\n",
        "\n",
        "\n"
      ],
      "metadata": {
        "id": "APa2xjpZcAkk"
      }
    },
    {
      "cell_type": "markdown",
      "source": [
        "#### 1. Выведите на экран фразу **\"Добро пожаловать в мир Python!\"** с помощью функции `print`.\n"
      ],
      "metadata": {
        "id": "omMWRtIod-k-"
      }
    },
    {
      "cell_type": "code",
      "source": [
        "print(\"Добро пожаловать в мир Python!\")"
      ],
      "metadata": {
        "id": "0R5R1jSwd_FT",
        "colab": {
          "base_uri": "https://localhost:8080/"
        },
        "outputId": "27fc3924-ec86-4e01-bd47-13c447055c2a"
      },
      "execution_count": 1,
      "outputs": [
        {
          "output_type": "stream",
          "name": "stdout",
          "text": [
            "Добро пожаловать в мир Python!\n"
          ]
        }
      ]
    },
    {
      "cell_type": "markdown",
      "source": [
        "#### 2. Выведите на экран результат сложения чисел **15** и **27**.\n"
      ],
      "metadata": {
        "id": "A3ysPOjNd70e"
      }
    },
    {
      "cell_type": "code",
      "source": [
        "print(15+27)"
      ],
      "metadata": {
        "id": "5wnr_TY1eCmM",
        "colab": {
          "base_uri": "https://localhost:8080/"
        },
        "outputId": "0bb10304-0696-4bf0-d4f2-4264bcadb6f9"
      },
      "execution_count": 2,
      "outputs": [
        {
          "output_type": "stream",
          "name": "stdout",
          "text": [
            "42\n"
          ]
        }
      ]
    },
    {
      "cell_type": "markdown",
      "source": [
        "#### 3. Сохраните свое имя в переменную и выведите его на экран с помощью `print`."
      ],
      "metadata": {
        "id": "RBkgp7Bjd9VL"
      }
    },
    {
      "cell_type": "code",
      "source": [
        "name = \"Andrew\"\n",
        "print(name)"
      ],
      "metadata": {
        "id": "R7V70qsCeCxl",
        "colab": {
          "base_uri": "https://localhost:8080/"
        },
        "outputId": "cdd1ba68-721d-4863-e309-63986e5fa05b"
      },
      "execution_count": 3,
      "outputs": [
        {
          "output_type": "stream",
          "name": "stdout",
          "text": [
            "Andrew\n"
          ]
        }
      ]
    },
    {
      "cell_type": "markdown",
      "source": [
        "#### 4. Выведите на экран несколько строк текста, каждая из которых отображается с новой строки."
      ],
      "metadata": {
        "id": "8q_iVvGed6VD"
      }
    },
    {
      "cell_type": "code",
      "source": [
        "print(\"Слышу, ветер запутался в листьях, \\nТам  на ветке качнулась луна.\\nРазве может быть несколько истин, \\nРазве можно любовь не узнать?\")"
      ],
      "metadata": {
        "id": "5uFFGny2eC_7",
        "colab": {
          "base_uri": "https://localhost:8080/"
        },
        "outputId": "bcf27164-24e1-410c-bbc0-a1b3d24f3287"
      },
      "execution_count": 5,
      "outputs": [
        {
          "output_type": "stream",
          "name": "stdout",
          "text": [
            "Слышу, ветер запутался в листьях, \n",
            "Там  на ветке качнулась луна.\n",
            "Разве может быть несколько истин, \n",
            "Разве можно любовь не узнать?\n"
          ]
        }
      ]
    },
    {
      "cell_type": "markdown",
      "source": [
        "#### 5. Выведите результат математического выражения с использованием f-строк, например:\n",
        "\n",
        "   ```python\n",
        "   7 + 7 = 14\n",
        "   ```\n"
      ],
      "metadata": {
        "id": "ZwTwWIbpeO8B"
      }
    },
    {
      "cell_type": "code",
      "source": [
        "f_stroka = f\"7 + 7 = {7+7}\"\n",
        "print(f_stroka)"
      ],
      "metadata": {
        "id": "f7cGPh5reXb8",
        "colab": {
          "base_uri": "https://localhost:8080/"
        },
        "outputId": "09f74449-c8f3-4b48-dec3-8f0053bdad6b"
      },
      "execution_count": 6,
      "outputs": [
        {
          "output_type": "stream",
          "name": "stdout",
          "text": [
            "7 + 7 = 14\n"
          ]
        }
      ]
    },
    {
      "cell_type": "markdown",
      "source": [
        "## **Блок заданий №2. Функция `input`**\n",
        "\n"
      ],
      "metadata": {
        "id": "YBCWUDzEdQcl"
      }
    },
    {
      "cell_type": "markdown",
      "source": [
        "#### 1. Запросите у пользователя три разных числа и выведите их произведение.\n"
      ],
      "metadata": {
        "id": "1JG7ncRffYpN"
      }
    },
    {
      "cell_type": "code",
      "source": [
        "x = int(input(\"Введите первое число: \"))\n",
        "y = int(input(\"Введите второе число: \"))\n",
        "z = int(input(\"Введите третье число: \"))\n",
        "print(f\"Сумма чисел равна: {x+y+z}\")"
      ],
      "metadata": {
        "id": "duI1IqytfZo3",
        "colab": {
          "base_uri": "https://localhost:8080/"
        },
        "outputId": "70d63099-f9cd-4829-898c-7ed412c04588"
      },
      "execution_count": 10,
      "outputs": [
        {
          "output_type": "stream",
          "name": "stdout",
          "text": [
            "Введите первое число: 1\n",
            "Введите второе число: 2\n",
            "Введите третье число: 3\n",
            "Сумма чисел равна: 6\n"
          ]
        }
      ]
    },
    {
      "cell_type": "markdown",
      "source": [
        "#### 2. Попросите пользователя ввести свое ФИО, а затем выведите фамилию и инициалы.\n"
      ],
      "metadata": {
        "id": "CGLKsG9yfXZf"
      }
    },
    {
      "cell_type": "code",
      "source": [
        "FIO = input(\"Введите ФИО: \").split()\n",
        "print(str(FIO[0]+\" \"+FIO[1][:1]+\".\"+FIO[2][:1]))"
      ],
      "metadata": {
        "id": "OhBXFkoffZ1l",
        "colab": {
          "base_uri": "https://localhost:8080/"
        },
        "outputId": "75589881-2556-4586-e68a-8beb6fda8d6c"
      },
      "execution_count": 16,
      "outputs": [
        {
          "output_type": "stream",
          "name": "stdout",
          "text": [
            "Введите ФИО: Бочкарев Андрей Дмитричевич\n",
            "Бочкарев А.Д\n"
          ]
        }
      ]
    },
    {
      "cell_type": "markdown",
      "source": [
        "#### 3. Получите от пользователя строку и символ, затем определите, сколько раз этот символ встречается в строке.\n"
      ],
      "metadata": {
        "id": "FJd73_DSfWgf"
      }
    },
    {
      "cell_type": "code",
      "source": [
        "strr = input(\"Введите строку: \")\n",
        "sym  = input(\"Введите символ: \")\n",
        "print(strr.count(sym))"
      ],
      "metadata": {
        "id": "VAzbeJANfaAP",
        "colab": {
          "base_uri": "https://localhost:8080/"
        },
        "outputId": "fef476c3-002b-48cd-dcdd-25696fdfb24a"
      },
      "execution_count": 19,
      "outputs": [
        {
          "output_type": "stream",
          "name": "stdout",
          "text": [
            "Введите строку: fahjaiopa\n",
            "Введите символ: a\n",
            "3\n"
          ]
        }
      ]
    },
    {
      "cell_type": "markdown",
      "source": [
        "#### 4. Попросите пользователя ввести любимый цвет и выведите сообщение: **\"[Цвет] - красивый цвет!\"**.\n"
      ],
      "metadata": {
        "id": "ZY_cf1nbfVbo"
      }
    },
    {
      "cell_type": "code",
      "source": [
        "color = input(\"Введите свой любимый цвет: \")\n",
        "print(f\"{color} - красивый цвет!\")"
      ],
      "metadata": {
        "id": "vVoFM74MfaMe",
        "colab": {
          "base_uri": "https://localhost:8080/"
        },
        "outputId": "5e853be5-5e37-4c78-def8-87252a3f967d"
      },
      "execution_count": 20,
      "outputs": [
        {
          "output_type": "stream",
          "name": "stdout",
          "text": [
            "Введите свой любимый цвет: Синий\n",
            "Синий - красивый цвет!\n"
          ]
        }
      ]
    },
    {
      "cell_type": "markdown",
      "source": [
        "#### 5. Получите от пользователя строку и выведите ее длину."
      ],
      "metadata": {
        "id": "a6ekPIcOfUFK"
      }
    },
    {
      "cell_type": "code",
      "source": [
        "x = input(\"Введите строку: \")\n",
        "print(len(x))"
      ],
      "metadata": {
        "id": "psRmx_htfas2",
        "colab": {
          "base_uri": "https://localhost:8080/"
        },
        "outputId": "71740a5a-dd02-485a-d501-bc4dd16dbb4b"
      },
      "execution_count": 22,
      "outputs": [
        {
          "output_type": "stream",
          "name": "stdout",
          "text": [
            "Введите строку: afqwfqwf\n",
            "8\n"
          ]
        }
      ]
    },
    {
      "cell_type": "markdown",
      "source": [
        "## **Блок заданий №3. Тип данных `int`**"
      ],
      "metadata": {
        "id": "gQ99P3lxgEvA"
      }
    },
    {
      "cell_type": "markdown",
      "source": [
        "#### Тип данных `int`\n",
        "\n",
        "\n",
        "\n",
        "\n",
        "\n"
      ],
      "metadata": {
        "id": "c-pHmy5NctvU"
      }
    },
    {
      "cell_type": "markdown",
      "source": [
        "1. Создайте переменную типа `int`, присвойте ей значение **42** и выведите на экран."
      ],
      "metadata": {
        "id": "1YAKZCMuglIZ"
      }
    },
    {
      "cell_type": "code",
      "source": [
        "x = int(42)\n",
        "print(x)\n"
      ],
      "metadata": {
        "id": "BpqJyc5GgmWz",
        "colab": {
          "base_uri": "https://localhost:8080/"
        },
        "outputId": "9fe1f9a0-303d-49a3-8b43-ec54e6a4f6b7"
      },
      "execution_count": 24,
      "outputs": [
        {
          "output_type": "stream",
          "name": "stdout",
          "text": [
            "42\n"
          ]
        }
      ]
    },
    {
      "cell_type": "markdown",
      "source": [
        "2. Вычислите и выведите результат выражения **(17 * 3) + (10 / 2)** в виде целого числа."
      ],
      "metadata": {
        "id": "J3FS1RtDgkCO"
      }
    },
    {
      "cell_type": "code",
      "source": [
        "print(int((17*3)+(10/2)))"
      ],
      "metadata": {
        "id": "YLIx8CCrgmkU",
        "colab": {
          "base_uri": "https://localhost:8080/"
        },
        "outputId": "19a8a9c2-a831-4be8-d59d-b95278404e86"
      },
      "execution_count": 25,
      "outputs": [
        {
          "output_type": "stream",
          "name": "stdout",
          "text": [
            "56\n"
          ]
        }
      ]
    },
    {
      "cell_type": "markdown",
      "source": [
        "3. Преобразуйте строку **\"100\"** в целое число и добавьте к нему **25**."
      ],
      "metadata": {
        "id": "91x1Lb4tgier"
      }
    },
    {
      "cell_type": "code",
      "source": [
        "x = int(100)\n",
        "print(x+25)"
      ],
      "metadata": {
        "id": "vmEIAy1CgmzH",
        "colab": {
          "base_uri": "https://localhost:8080/"
        },
        "outputId": "6002e775-54c3-4943-c44c-cf1c07edd1b6"
      },
      "execution_count": 26,
      "outputs": [
        {
          "output_type": "stream",
          "name": "stdout",
          "text": [
            "125\n"
          ]
        }
      ]
    },
    {
      "cell_type": "markdown",
      "source": [
        "4. Проверьте тип переменной, которая хранит значение **7**, используя функцию `type()`."
      ],
      "metadata": {
        "id": "Ua_0A7teghG0"
      }
    },
    {
      "cell_type": "code",
      "source": [
        "print(type(7))"
      ],
      "metadata": {
        "id": "56_CnKgGgnFi",
        "colab": {
          "base_uri": "https://localhost:8080/"
        },
        "outputId": "ebdb678d-2756-476d-e08a-89099b0f3493"
      },
      "execution_count": 27,
      "outputs": [
        {
          "output_type": "stream",
          "name": "stdout",
          "text": [
            "<class 'int'>\n"
          ]
        }
      ]
    },
    {
      "cell_type": "markdown",
      "source": [
        "5. Создайте две переменные целого типа, присвойте им значения и выведите их разницу."
      ],
      "metadata": {
        "id": "JxK0fU_Wgf8J"
      }
    },
    {
      "cell_type": "code",
      "source": [
        "x = int(100)\n",
        "y = int(50)\n",
        "print(x-y)"
      ],
      "metadata": {
        "id": "GFsY9xSkgnfv",
        "colab": {
          "base_uri": "https://localhost:8080/"
        },
        "outputId": "410df0f0-2354-4c7a-f3fd-eea43cde2e8a"
      },
      "execution_count": 28,
      "outputs": [
        {
          "output_type": "stream",
          "name": "stdout",
          "text": [
            "50\n"
          ]
        }
      ]
    },
    {
      "cell_type": "markdown",
      "source": [
        "## **Блок заданий №4. Тип данных `float`**"
      ],
      "metadata": {
        "id": "G-DskIxcg598"
      }
    },
    {
      "cell_type": "markdown",
      "source": [
        "#### 1. Запросите у пользователя вещественное число и выведите его квадрат.\n",
        "\n",
        "\n",
        "\n"
      ],
      "metadata": {
        "id": "W5liVT_kcwnQ"
      }
    },
    {
      "cell_type": "code",
      "source": [
        "x = float(input(\"Введите вещественное число: \"))\n",
        "print(x**2)"
      ],
      "metadata": {
        "id": "S_i6OLwShHaH",
        "colab": {
          "base_uri": "https://localhost:8080/"
        },
        "outputId": "dc94c2a4-7022-4b13-eafb-d7be364abca9"
      },
      "execution_count": 31,
      "outputs": [
        {
          "output_type": "stream",
          "name": "stdout",
          "text": [
            "Введите вещественное число: 5.2\n",
            "27.040000000000003\n"
          ]
        }
      ]
    },
    {
      "cell_type": "markdown",
      "source": [
        "#### 2. Запросите у пользователя вещественное число и округлите его до двух знаков после запятой."
      ],
      "metadata": {
        "id": "rcXGDx7FhGZ7"
      }
    },
    {
      "cell_type": "code",
      "source": [
        "x = float(input(\"Введите вещественное число: \"))\n",
        "print(round(x,2))"
      ],
      "metadata": {
        "id": "W534mNlphHoW",
        "colab": {
          "base_uri": "https://localhost:8080/"
        },
        "outputId": "976cd965-00a9-4787-aad6-63fb36364128"
      },
      "execution_count": 34,
      "outputs": [
        {
          "output_type": "stream",
          "name": "stdout",
          "text": [
            "Введите вещественное число: 5.55555\n",
            "5.56\n"
          ]
        }
      ]
    },
    {
      "cell_type": "markdown",
      "source": [
        "#### 3. Сложите два числа с плавающей точкой: **2.5** и **4.7**, выведите результат."
      ],
      "metadata": {
        "id": "2HZIMG65hEwD"
      }
    },
    {
      "cell_type": "code",
      "source": [
        "print(float(2.5+4.7))"
      ],
      "metadata": {
        "id": "tNhoDLUqhH-Q",
        "colab": {
          "base_uri": "https://localhost:8080/"
        },
        "outputId": "8d24a49f-8334-43ad-ac0a-df771a0f5488"
      },
      "execution_count": 36,
      "outputs": [
        {
          "output_type": "stream",
          "name": "stdout",
          "text": [
            "7.2\n"
          ]
        }
      ]
    },
    {
      "cell_type": "markdown",
      "source": [
        "#### 4. Преобразуйте градусы Цельсия, введенные пользователем, в Фаренгейты по формуле `F = C * 9/5 + 32`."
      ],
      "metadata": {
        "id": "lbX1tt0_hDlr"
      }
    },
    {
      "cell_type": "code",
      "source": [
        "C = float(input(\"Введите градусы Цельсия: \"))\n",
        "print(float(C * 9/5 + 32))"
      ],
      "metadata": {
        "id": "tjYR7aRHhILq",
        "colab": {
          "base_uri": "https://localhost:8080/"
        },
        "outputId": "24d67473-bc8b-4f04-94a1-4e4e10a49d5a"
      },
      "execution_count": 38,
      "outputs": [
        {
          "output_type": "stream",
          "name": "stdout",
          "text": [
            "Введите градусы Цельсия: 36\n",
            "96.8\n"
          ]
        }
      ]
    },
    {
      "cell_type": "markdown",
      "source": [
        "#### 5. Получите от пользователя длину и ширину прямоугольника, вычислите его площадь и периметр."
      ],
      "metadata": {
        "id": "RhghSwthhCPJ"
      }
    },
    {
      "cell_type": "code",
      "source": [
        "x = float(input(\"Введите длину: \"))\n",
        "y = float(input(\"Введите ширину: \"))\n",
        "print(f\"Площадь равна: {x*y} \\nПериметр равен: {(x+y)*2}\")"
      ],
      "metadata": {
        "id": "GjKTKXmZhIaN",
        "colab": {
          "base_uri": "https://localhost:8080/"
        },
        "outputId": "02079fed-12ef-487c-8033-e0e7aee66b48"
      },
      "execution_count": 39,
      "outputs": [
        {
          "output_type": "stream",
          "name": "stdout",
          "text": [
            "Введите длину: 5\n",
            "Введите ширину: 6\n",
            "Площадь равна: 30.0 \n",
            "Периметр равен: 22.0\n"
          ]
        }
      ]
    },
    {
      "cell_type": "markdown",
      "source": [
        "## **Блок заданий №5. Тип данных `str`**"
      ],
      "metadata": {
        "id": "CslTMbtXiWOP"
      }
    },
    {
      "cell_type": "markdown",
      "source": [
        "####1. Создайте строку **\"Python - самый популярный язык программирования\"** и выведите ее.\n"
      ],
      "metadata": {
        "id": "KUmla5cCieae"
      }
    },
    {
      "cell_type": "code",
      "source": [
        "x = \"Строка\"\n",
        "print(x)"
      ],
      "metadata": {
        "id": "Q7kHloVXlMVB",
        "colab": {
          "base_uri": "https://localhost:8080/"
        },
        "outputId": "da02b0bb-a0c0-4011-a223-47d23b786c57"
      },
      "execution_count": 40,
      "outputs": [
        {
          "output_type": "stream",
          "name": "stdout",
          "text": [
            "Строка\n"
          ]
        }
      ]
    },
    {
      "cell_type": "markdown",
      "source": [
        "####2. Выведите первый и последний символы строки **\"Привет, мир!\"**."
      ],
      "metadata": {
        "id": "ypQL09raiehN"
      }
    },
    {
      "cell_type": "code",
      "source": [
        "x = \"Привет, мир!\"\n",
        "print(x[0], x[-1])"
      ],
      "metadata": {
        "id": "iVU99HAUlMpC",
        "colab": {
          "base_uri": "https://localhost:8080/"
        },
        "outputId": "c4dcae0a-b58f-4aba-9455-2ffeaaa4f1f6"
      },
      "execution_count": 43,
      "outputs": [
        {
          "output_type": "stream",
          "name": "stdout",
          "text": [
            "П !\n"
          ]
        }
      ]
    },
    {
      "cell_type": "markdown",
      "source": [
        "####3. Соедините три строки: **\"МИИГАиК - \"** , **\"Лучший \"**, **\"ВУЗ!\"** выведите результат."
      ],
      "metadata": {
        "id": "XxKbQhFkiw83"
      }
    },
    {
      "cell_type": "code",
      "source": [
        "x = \"МИИГАиК - \"\n",
        "y = \"Лучший \"\n",
        "z = \"ВУЗ!\"\n",
        "print(x+y+z)"
      ],
      "metadata": {
        "id": "4amk_NcnlM3T",
        "colab": {
          "base_uri": "https://localhost:8080/"
        },
        "outputId": "450f90da-1adb-4dd2-de58-282afbc2072d"
      },
      "execution_count": 44,
      "outputs": [
        {
          "output_type": "stream",
          "name": "stdout",
          "text": [
            "МИИГАиК - Лучший ВУЗ!\n"
          ]
        }
      ]
    },
    {
      "cell_type": "markdown",
      "source": [
        "####4. Преобразуйте строку **\"12345\"** в число и выведите тип полученного значения.\n"
      ],
      "metadata": {
        "id": "MXOJX4g8ieoI"
      }
    },
    {
      "cell_type": "code",
      "source": [
        "x = int(12345)\n",
        "print(type(x))"
      ],
      "metadata": {
        "id": "t6Wvy7CZlNM2",
        "colab": {
          "base_uri": "https://localhost:8080/"
        },
        "outputId": "97d057fd-434a-4b4f-c6fa-dbd45553cdab"
      },
      "execution_count": 45,
      "outputs": [
        {
          "output_type": "stream",
          "name": "stdout",
          "text": [
            "<class 'int'>\n"
          ]
        }
      ]
    },
    {
      "cell_type": "markdown",
      "source": [
        "####5. Сделайте все буквы строки **\"python is Fun\"** заглавными и выведите результат."
      ],
      "metadata": {
        "id": "hhBQ-8gMc0Li"
      }
    },
    {
      "cell_type": "code",
      "source": [
        "x = \"python is Fun\"\n",
        "print(x.upper())"
      ],
      "metadata": {
        "id": "n3KLT91zlNgY",
        "colab": {
          "base_uri": "https://localhost:8080/"
        },
        "outputId": "f43ed223-7d02-464d-a28b-dc0cf36c062c"
      },
      "execution_count": 46,
      "outputs": [
        {
          "output_type": "stream",
          "name": "stdout",
          "text": [
            "PYTHON IS FUN\n"
          ]
        }
      ]
    },
    {
      "cell_type": "markdown",
      "source": [
        "## **Блок заданий №6. Тип данных `list`**"
      ],
      "metadata": {
        "id": "ud5LmPUPlXND"
      }
    },
    {
      "cell_type": "markdown",
      "source": [
        "####1. Создайте список из чисел **[10, 20, 30, 40, 50]** и выведите его.\n"
      ],
      "metadata": {
        "id": "ZDkNefxXlXND"
      }
    },
    {
      "cell_type": "code",
      "source": [
        "a  = [10,20,30,40,50]\n",
        "print(a)"
      ],
      "metadata": {
        "id": "G6fH9gBLlzI2",
        "colab": {
          "base_uri": "https://localhost:8080/"
        },
        "outputId": "ec7c5851-cfb0-490e-cd01-9e2c7ba60675"
      },
      "execution_count": 50,
      "outputs": [
        {
          "output_type": "stream",
          "name": "stdout",
          "text": [
            "[10, 20, 30, 40, 50]\n"
          ]
        }
      ]
    },
    {
      "cell_type": "markdown",
      "source": [
        "####2. Добавьте в список строку **\"новый элемент\"** и выведите обновленный список.\n"
      ],
      "metadata": {
        "id": "oDUtdPi-lo7n"
      }
    },
    {
      "cell_type": "code",
      "source": [
        "a = [\"aaa\"]*6\n",
        "a.append(\"новый элемент\")\n",
        "print(a)"
      ],
      "metadata": {
        "id": "6QhNXffflzXT",
        "colab": {
          "base_uri": "https://localhost:8080/"
        },
        "outputId": "056fa3bc-0a7c-4430-cf6e-2d476cc9dc70"
      },
      "execution_count": 49,
      "outputs": [
        {
          "output_type": "stream",
          "name": "stdout",
          "text": [
            "['aaa', 'aaa', 'aaa', 'aaa', 'aaa', 'aaa', 'новый элемент']\n"
          ]
        }
      ]
    },
    {
      "cell_type": "markdown",
      "source": [
        "####3. Из списка `['python', 'java', 'c++', 'ruby', 'perl']` выведите элементы с 2-го по 4-й включительно.\n"
      ],
      "metadata": {
        "id": "BZlOVdc4lo-O"
      }
    },
    {
      "cell_type": "code",
      "source": [
        "a = ['python', 'java', 'c++', 'ruby', 'perl']\n",
        "print(a[1:4])"
      ],
      "metadata": {
        "id": "lU12ExUElzjH",
        "colab": {
          "base_uri": "https://localhost:8080/"
        },
        "outputId": "78b506e9-55d4-4f72-8cf4-cd135d4baa9f"
      },
      "execution_count": 51,
      "outputs": [
        {
          "output_type": "stream",
          "name": "stdout",
          "text": [
            "['java', 'c++', 'ruby']\n"
          ]
        }
      ]
    },
    {
      "cell_type": "markdown",
      "source": [
        "####4. Создайте пустой список, добавьте в него три любых значения и выведите итоговый список.\n"
      ],
      "metadata": {
        "id": "0dZPxhU_lpCN"
      }
    },
    {
      "cell_type": "code",
      "source": [
        "a = []\n",
        "a.append(\"aaa\")\n",
        "a.append(\"aaff\")\n",
        "a.append(\"agga\")\n",
        "print(a)"
      ],
      "metadata": {
        "id": "pRQ1BHKUlzud",
        "colab": {
          "base_uri": "https://localhost:8080/"
        },
        "outputId": "95db2e6b-f136-46b5-c775-a27b8dc6ede4"
      },
      "execution_count": 54,
      "outputs": [
        {
          "output_type": "stream",
          "name": "stdout",
          "text": [
            "['aaa', 'aaff', 'agga']\n"
          ]
        }
      ]
    },
    {
      "cell_type": "markdown",
      "source": [
        "####5. Измените второй элемент списка **[1, 2, 3, 4, 5]** на число **200** и выведите список."
      ],
      "metadata": {
        "id": "o104mH_plpJl"
      }
    },
    {
      "cell_type": "code",
      "source": [
        "a = [1, 2, 3, 4, 5]\n",
        "a[1] = 200\n",
        "print(a)"
      ],
      "metadata": {
        "id": "ur_sqeAYlz-0",
        "colab": {
          "base_uri": "https://localhost:8080/"
        },
        "outputId": "80b46bb9-9586-4093-f652-5f474370ec25"
      },
      "execution_count": 55,
      "outputs": [
        {
          "output_type": "stream",
          "name": "stdout",
          "text": [
            "[1, 200, 3, 4, 5]\n"
          ]
        }
      ]
    },
    {
      "cell_type": "markdown",
      "source": [
        "## **Блок заданий №7. Тип данных `tuple`**"
      ],
      "metadata": {
        "id": "w7lcJPx9mhLe"
      }
    },
    {
      "cell_type": "markdown",
      "source": [
        "####1. Создайте кортеж из чисел **(1, 2, 3, 4, 5)** и выведите его на экран.\n"
      ],
      "metadata": {
        "id": "HqmF9aMWmeon"
      }
    },
    {
      "cell_type": "code",
      "source": [
        "a = (1, 2, 3, 4, 5)\n",
        "print(a)"
      ],
      "metadata": {
        "id": "hGuk1KfHn7V7",
        "colab": {
          "base_uri": "https://localhost:8080/"
        },
        "outputId": "bca4dde9-5a94-4207-ccad-dcee3ef9cdbe"
      },
      "execution_count": 56,
      "outputs": [
        {
          "output_type": "stream",
          "name": "stdout",
          "text": [
            "(1, 2, 3, 4, 5)\n"
          ]
        }
      ]
    },
    {
      "cell_type": "markdown",
      "source": [
        "####2. Попробуйте изменить первый элемент кортежа и объясните в комментариях к программе, что произошло.\n"
      ],
      "metadata": {
        "id": "_QQf4g6gmerF"
      }
    },
    {
      "cell_type": "code",
      "source": [
        "a = (1, 2, 3, 4, 5)\n",
        "a[0] = 111\n",
        "print(a)\n",
        "# кортеж не изменяемый тип данных"
      ],
      "metadata": {
        "id": "sZcbKwV_n7vA",
        "colab": {
          "base_uri": "https://localhost:8080/",
          "height": 180
        },
        "outputId": "cbc7a0e3-f4d3-49db-cb99-a4bffac3aaaa"
      },
      "execution_count": 57,
      "outputs": [
        {
          "output_type": "error",
          "ename": "TypeError",
          "evalue": "'tuple' object does not support item assignment",
          "traceback": [
            "\u001b[0;31m---------------------------------------------------------------------------\u001b[0m",
            "\u001b[0;31mTypeError\u001b[0m                                 Traceback (most recent call last)",
            "\u001b[0;32m/tmp/ipython-input-3758259126.py\u001b[0m in \u001b[0;36m<cell line: 0>\u001b[0;34m()\u001b[0m\n\u001b[1;32m      1\u001b[0m \u001b[0ma\u001b[0m \u001b[0;34m=\u001b[0m \u001b[0;34m(\u001b[0m\u001b[0;36m1\u001b[0m\u001b[0;34m,\u001b[0m \u001b[0;36m2\u001b[0m\u001b[0;34m,\u001b[0m \u001b[0;36m3\u001b[0m\u001b[0;34m,\u001b[0m \u001b[0;36m4\u001b[0m\u001b[0;34m,\u001b[0m \u001b[0;36m5\u001b[0m\u001b[0;34m)\u001b[0m\u001b[0;34m\u001b[0m\u001b[0;34m\u001b[0m\u001b[0m\n\u001b[0;32m----> 2\u001b[0;31m \u001b[0ma\u001b[0m\u001b[0;34m[\u001b[0m\u001b[0;36m0\u001b[0m\u001b[0;34m]\u001b[0m \u001b[0;34m=\u001b[0m \u001b[0;36m111\u001b[0m\u001b[0;34m\u001b[0m\u001b[0;34m\u001b[0m\u001b[0m\n\u001b[0m\u001b[1;32m      3\u001b[0m \u001b[0mprint\u001b[0m\u001b[0;34m(\u001b[0m\u001b[0ma\u001b[0m\u001b[0;34m)\u001b[0m\u001b[0;34m\u001b[0m\u001b[0;34m\u001b[0m\u001b[0m\n",
            "\u001b[0;31mTypeError\u001b[0m: 'tuple' object does not support item assignment"
          ]
        }
      ]
    },
    {
      "cell_type": "markdown",
      "source": [
        "####3. Преобразуйте кортеж в строку и выведите результат.\n"
      ],
      "metadata": {
        "id": "6fMHK5femevO"
      }
    },
    {
      "cell_type": "code",
      "source": [
        "a = (1, 2, 3, 4, 5)\n",
        "print(str(a))"
      ],
      "metadata": {
        "id": "AudeNNOin77h",
        "colab": {
          "base_uri": "https://localhost:8080/"
        },
        "outputId": "31daeb23-382f-434a-d164-ee2ce24ec998"
      },
      "execution_count": 58,
      "outputs": [
        {
          "output_type": "stream",
          "name": "stdout",
          "text": [
            "(1, 2, 3, 4, 5)\n"
          ]
        }
      ]
    },
    {
      "cell_type": "markdown",
      "source": [
        "####4. Проверьте, содержится ли определенный элемент в кортеже, выведите соответствующее сообщение.\n"
      ],
      "metadata": {
        "id": "HOOFXQYtmeyG"
      }
    },
    {
      "cell_type": "code",
      "source": [
        "a = (1, 2, 3, 4, 5)\n",
        "print(1 in a)"
      ],
      "metadata": {
        "id": "PlPkzGCon8N2",
        "colab": {
          "base_uri": "https://localhost:8080/"
        },
        "outputId": "cbd9be63-023c-4234-827d-950cbf05af5e"
      },
      "execution_count": 61,
      "outputs": [
        {
          "output_type": "stream",
          "name": "stdout",
          "text": [
            "True\n"
          ]
        }
      ]
    },
    {
      "cell_type": "markdown",
      "source": [
        "####5. Создайте кортеж, состоящий из нескольких одинаковых элементов, и найдите их количество с помощью метода `count()`.\n"
      ],
      "metadata": {
        "id": "HSi5wD3xme3I"
      }
    },
    {
      "cell_type": "code",
      "source": [
        "a = (2, 2, 2, 3, 4, 5)\n",
        "print(a.count(2))"
      ],
      "metadata": {
        "id": "G5eyJNkZn8aw",
        "colab": {
          "base_uri": "https://localhost:8080/"
        },
        "outputId": "0b6ce5de-cdc3-4ff4-fd77-08d84d027f76"
      },
      "execution_count": 63,
      "outputs": [
        {
          "output_type": "stream",
          "name": "stdout",
          "text": [
            "3\n"
          ]
        }
      ]
    },
    {
      "cell_type": "markdown",
      "source": [
        "## **Блок заданий №8. Тип данных `dict`**"
      ],
      "metadata": {
        "id": "v7nByOSzn6Gs"
      }
    },
    {
      "cell_type": "markdown",
      "source": [
        "####1. Создайте словарь с данными о себе: ключи **\"имя\"**, **\"возраст\"**, **\"город\"**; выведите его.\n"
      ],
      "metadata": {
        "id": "SdH7l87WoNxs"
      }
    },
    {
      "cell_type": "code",
      "source": [
        "a = {\"Имя\": \"Андрей\", \"возраст\": \"22\", \"город\": \"Москва\"}\n",
        "print(a)"
      ],
      "metadata": {
        "id": "G_5mPREsoO__",
        "colab": {
          "base_uri": "https://localhost:8080/"
        },
        "outputId": "dd775778-cbb9-4cdc-bf2c-9e462c123d07"
      },
      "execution_count": 65,
      "outputs": [
        {
          "output_type": "stream",
          "name": "stdout",
          "text": [
            "{'Имя': 'Андрей', 'возраст': '22', 'город': 'Москва'}\n"
          ]
        }
      ]
    },
    {
      "cell_type": "markdown",
      "source": [
        "####2. Выведите значение по ключу **\"имя\"** из созданного словаря.\n"
      ],
      "metadata": {
        "id": "nsoYMyesoMxq"
      }
    },
    {
      "cell_type": "code",
      "source": [
        "a = {\"Имя\": \"Андрей\", \"возраст\": \"22\", \"город\": \"Москва\"}\n",
        "print(a[\"Имя\"])"
      ],
      "metadata": {
        "id": "OL_waQuioPSG",
        "colab": {
          "base_uri": "https://localhost:8080/"
        },
        "outputId": "3daa96cd-cfe4-4136-f149-47d12addd184"
      },
      "execution_count": 67,
      "outputs": [
        {
          "output_type": "stream",
          "name": "stdout",
          "text": [
            "Андрей\n"
          ]
        }
      ]
    },
    {
      "cell_type": "markdown",
      "source": [
        "####3. Добавьте в словарь новый ключ **\"профессия\"** со значением и выведите словарь.\n"
      ],
      "metadata": {
        "id": "0T_miCFjoLhI"
      }
    },
    {
      "cell_type": "code",
      "source": [
        "a = {\"Имя\": \"Андрей\", \"возраст\": \"22\", \"город\": \"Москва\"}\n",
        "a[\"Профессия\"] = \"Тунеядец\"\n",
        "print(a)"
      ],
      "metadata": {
        "id": "5LOqyJAHoPfn",
        "colab": {
          "base_uri": "https://localhost:8080/"
        },
        "outputId": "86dafa12-8f93-4372-dea6-a10c8945648e"
      },
      "execution_count": 68,
      "outputs": [
        {
          "output_type": "stream",
          "name": "stdout",
          "text": [
            "{'Имя': 'Андрей', 'возраст': '22', 'город': 'Москва', 'Профессия': 'Тунеядец'}\n"
          ]
        }
      ]
    },
    {
      "cell_type": "markdown",
      "source": [
        "####4. Удалите из словаря ключ **\"город\"** и выведите обновленный словарь.\n"
      ],
      "metadata": {
        "id": "QPwxJK74oKZ3"
      }
    },
    {
      "cell_type": "code",
      "source": [
        "a = {\"Имя\": \"Андрей\", \"возраст\": \"22\", \"город\": \"Москва\"}\n",
        "a.pop(\"город\")\n",
        "print(a)"
      ],
      "metadata": {
        "id": "3dPMpP1koPrR",
        "colab": {
          "base_uri": "https://localhost:8080/"
        },
        "outputId": "6b87b1de-16e8-4d48-ac3f-b55bde141c22"
      },
      "execution_count": 70,
      "outputs": [
        {
          "output_type": "stream",
          "name": "stdout",
          "text": [
            "{'Имя': 'Андрей', 'возраст': '22'}\n"
          ]
        }
      ]
    },
    {
      "cell_type": "markdown",
      "source": [
        "####5. Создайте пустой словарь и добавьте в него пару ключ-значение, введенных пользователем."
      ],
      "metadata": {
        "id": "7UDgxikGoJXz"
      }
    },
    {
      "cell_type": "code",
      "source": [
        "a = {}\n",
        "key, prop = input(\"Введите ключ и значение:\").split()\n",
        "a[key]= prop\n",
        "print(a)"
      ],
      "metadata": {
        "id": "AofDComvoP2d",
        "colab": {
          "base_uri": "https://localhost:8080/"
        },
        "outputId": "b33d9bc9-5e67-4810-934c-22352f930f15"
      },
      "execution_count": 71,
      "outputs": [
        {
          "output_type": "stream",
          "name": "stdout",
          "text": [
            "Введите ключ и значение:Погода Ясная\n",
            "{'Погода': 'Ясная'}\n"
          ]
        }
      ]
    }
  ]
}