{
  "nbformat": 4,
  "nbformat_minor": 0,
  "metadata": {
    "colab": {
      "provenance": [],
      "include_colab_link": true
    },
    "kernelspec": {
      "name": "python3",
      "display_name": "Python 3"
    },
    "language_info": {
      "name": "python"
    }
  },
  "cells": [
    {
      "cell_type": "markdown",
      "metadata": {
        "id": "view-in-github",
        "colab_type": "text"
      },
      "source": [
        "<a href=\"https://colab.research.google.com/github/AndrBoch/University/blob/main/tasks/Module_3.ipynb\" target=\"_parent\"><img src=\"https://colab.research.google.com/assets/colab-badge.svg\" alt=\"Open In Colab\"/></a>"
      ]
    },
    {
      "cell_type": "markdown",
      "source": [
        "# **Практическая работа №3. Введение в ООП**\n",
        "\n",
        "\n"
      ],
      "metadata": {
        "id": "s-EuQCpnWXCn"
      }
    },
    {
      "cell_type": "markdown",
      "source": [
        "## **Задание №1. Создайте класс Sphere для представления сферы в трехмерном пространстве**\n"
      ],
      "metadata": {
        "id": "TQ5SpdjdbD4D"
      }
    },
    {
      "cell_type": "markdown",
      "source": [
        "Обеспечьте следующие методы класса:\n",
        "\n",
        "1. Конструктор, принимающий 4 действительных числа: радиус, и 3 координаты центра шара. Если конструктор вызывается без аргументов, создать объект сферы с единичным радиусом и центром в начале координат. Если конструктор вызывается с аргументом, создать объект сферы с соответствующим радиусом и центром в начале координат.\n",
        "\n",
        "2. Метод get_volume (), который возвращает действительное число — объем шара, ограниченной текущей сферой.\n",
        "\n",
        "3. Метод get_square (), который возвращает действительное число — площадь внешней поверхности сферы.\n",
        "\n",
        "4. Метод get_radius (), который возвращает действительное число — радиус сферы.\n",
        "\n",
        "5. Метод get_center (), который возвращает тьюпл с 3 действительными числами — координатами центра сферы в том же порядке, в каком они задаются в конструкторе.\n",
        "\n",
        "6. Метод set_radius (r), который принимает 1 аргумент — действительное число, и меняет радиус текущей сферы, ничего не возвращая.\n",
        "\n",
        "7. Метод set_center (x, y, z), который принимает 3 аргумента — действительных числа, и меняет координаты центра сферы, ничего не возвращая. Координаты задаются в том же порядке, что и в конструкторе.\n",
        "\n",
        "8. Метод is_point_inside (x, y, z), который принимает 3 аргумента — действительных числа — координаты некоторой точки в пространстве (в том же порядке, что и в конструкторе), и возвращает логическое значение True или False в зависимости от того, находится эта точка внутри сферы."
      ],
      "metadata": {
        "id": "Q5Ow51wfASZH"
      }
    },
    {
      "cell_type": "code",
      "source": [
        "# Тесты\n",
        "\n",
        "s0 = Sphere(0.5) # test sphere creation with radius and default center\n",
        "print(s0.get_center()) # (0.0, 0.0, 0.0)\n",
        "print(s0.get_volume()) # 0.523598775598\n",
        "print(s0.is_point_inside(0 , -1.5, 0)) # False\n",
        "s0.set_radius(1.6)\n",
        "print(s0.is_point_inside(0, -1.5, 0)) # True\n",
        "print(s0.get_radius()) # 1.6"
      ],
      "metadata": {
        "id": "xYx3bR2Lbv42"
      },
      "execution_count": null,
      "outputs": []
    },
    {
      "cell_type": "code",
      "source": [
        "from math import pi\n",
        "\n",
        "class Sphere:\n",
        "  def __init__(self, radius = 1, x = 0, y = 0, z = 0):\n",
        "    self.radius = radius\n",
        "    self.x = x\n",
        "    self.y = y\n",
        "    self.z = z\n",
        "\n",
        "  def get_volume(self):\n",
        "    return 4/3*pi*self.radius**3\n",
        "\n",
        "  def get_square(self):\n",
        "    return 4*pi*self.radius**2\n",
        "\n",
        "  def get_radius(self):\n",
        "    return self.radius\n",
        "\n",
        "  def get_center(self):\n",
        "    return self.x, self.y, self.z\n",
        "\n",
        "  def set_radius(self,r):\n",
        "    self.radius = r\n",
        "\n",
        "  def set_center(self,x,y,z):\n",
        "    self.x = x\n",
        "    self.y = y\n",
        "    self.z = z\n",
        "\n",
        "  def is_point_inside(self,x,y,z):\n",
        "    if ((x-self.x)**2+(y-self.y)**2+(z-self.z)**2)<self.radius**2:\n",
        "      return True\n",
        "    else:\n",
        "      return False\n",
        "\n",
        "s0 = Sphere(0.5) # test sphere creation with radius and default center\n",
        "print(s0.get_center()) # (0.0, 0.0, 0.0)\n",
        "print(s0.get_volume()) # 0.523598775598\n",
        "print(s0.is_point_inside(0 , -1.5, 0)) # False\n",
        "s0.set_radius(1.6)\n",
        "print(s0.is_point_inside(0, -1.5, 0)) # True\n",
        "print(s0.get_radius()) # 1.6"
      ],
      "metadata": {
        "id": "d-vd-AYRdBId",
        "colab": {
          "base_uri": "https://localhost:8080/"
        },
        "outputId": "96150f3b-5c09-4660-b130-a9d9b6811b31"
      },
      "execution_count": null,
      "outputs": [
        {
          "output_type": "stream",
          "name": "stdout",
          "text": [
            "(0, 0, 0)\n",
            "0.5235987755982988\n",
            "False\n",
            "True\n",
            "1.6\n"
          ]
        }
      ]
    },
    {
      "cell_type": "markdown",
      "source": [
        "## **Задание №2. Создайте класс SuperStr, который наследует стандартный класс str и содержит 2 новых метода:**"
      ],
      "metadata": {
        "id": "UuJ9K_zAcaY_"
      }
    },
    {
      "cell_type": "markdown",
      "source": [
        "1. Метод is_repeatance (s), который принимает 1 аргумент s и возвращает True или False в зависимости от того, может ли текущая строку быть получена целым количеством повторов строки s. Вернуть False, если s не является строкой. Считать, что пустая строка не содержит повторов.\n",
        "\n",
        "2. Метод is_palindrom (), который возвращает True или False в зависимости от того, является ли строка [палиндромом](https://ru.wikipedia.org/wiki/Палиндром). Регистрами символов пренебрегать. Пустую строку считать палиндромом."
      ],
      "metadata": {
        "id": "GX99X81VchPW"
      }
    },
    {
      "cell_type": "code",
      "source": [
        "class SuperStr:\n",
        "  def __init__(self, strr):\n",
        "    self.strr  = strr.lower()\n",
        "\n",
        "  def is_repeatance(self,strr):\n",
        "    if (isinstance(strr, str)):\n",
        "      strr = strr.lower()\n",
        "      if len(self.strr)%len(strr)==0 and strr*(len(self.strr)//len(strr))==self.strr:\n",
        "        return True\n",
        "      else:\n",
        "        return False\n",
        "    else:\n",
        "      return False\n",
        "\n",
        "  def is_palindrom(self):\n",
        "    if self.strr == self.strr[::-1]:\n",
        "      return True\n",
        "    else:\n",
        "      return False\n",
        "\n",
        "  def __str__(self):\n",
        "    return self.strr\n",
        "\n",
        "  def __int__(self):\n",
        "    return int(self.strr)\n",
        "\n",
        "  def __add__(self, other):\n",
        "      if isinstance(other, str):\n",
        "          return self.strr + other\n",
        "      else:\n",
        "          return NotImplemented"
      ],
      "metadata": {
        "id": "LtIAKDWFdEcr"
      },
      "execution_count": null,
      "outputs": []
    },
    {
      "cell_type": "code",
      "source": [
        "# Тесты\n",
        "\n",
        "s = SuperStr(\"123123123123\")\n",
        "print(s.is_repeatance(\"123\")) # True\n",
        "print(s.is_repeatance(\"123123\")) # True\n",
        "print(s.is_repeatance(\"123123123123\")) # True\n",
        "print(s.is_repeatance(\"12312\")) # False\n",
        "print(s.is_repeatance(123)) # False\n",
        "print(s.is_palindrom()) # False\n",
        "print(s) # 123123123123 (строка)\n",
        "print(int(s)) # 123123123123 (целое число)\n",
        "print(s + \"qwe\") # 123123123123qwe\n",
        "p = SuperStr(\"123_321\")\n",
        "print(p.is_palindrom()) # True"
      ],
      "metadata": {
        "id": "oRO3alwicoNp",
        "colab": {
          "base_uri": "https://localhost:8080/"
        },
        "outputId": "7b58ffc2-6bb2-4c9f-a72a-90be862252aa"
      },
      "execution_count": null,
      "outputs": [
        {
          "output_type": "stream",
          "name": "stdout",
          "text": [
            "True\n",
            "True\n",
            "True\n",
            "False\n",
            "False\n",
            "False\n",
            "123123123123\n",
            "123123123123\n",
            "123123123123qwe\n",
            "True\n"
          ]
        }
      ]
    },
    {
      "cell_type": "markdown",
      "source": [
        "## **Задание №3. В коде ниже представлен класс преподавателей и класс студентов (вы можете взять этот код за основу или написать свой).**"
      ],
      "metadata": {
        "id": "m9EGwLY9jZbw"
      }
    },
    {
      "cell_type": "code",
      "source": [
        "class Student:\n",
        "    def __init__(self, name, surname, gender):\n",
        "        self.name = name\n",
        "        self.surname = surname\n",
        "        self.gender = gender\n",
        "        self.finished_courses = []\n",
        "        self.courses_in_progress = []\n",
        "        self.grades = {}\n",
        "\n",
        "    def add_courses(self, course_name):\n",
        "        self.finished_courses.append(course_name)\n",
        "\n",
        "\n",
        "class Mentor:\n",
        "    def __init__(self, name, surname):\n",
        "        self.name = name\n",
        "        self.surname = surname\n",
        "        self.courses_attached = []\n",
        "\n",
        "    def rate_hw(self, student, course, grade):\n",
        "        student.grades[course] = [grade]"
      ],
      "metadata": {
        "id": "PlqK9m7KrT6e"
      },
      "execution_count": null,
      "outputs": []
    },
    {
      "cell_type": "code",
      "source": [
        "best_student = Student('Ruoy', 'Eman', 'your_gender')\n",
        "cool_mentor = Mentor('Some', 'Buddy')\n",
        "cool_mentor.rate_hw(best_student, 'Python', 10)\n",
        "cool_mentor.rate_hw(best_student, 'C++', 9)\n",
        "\n",
        "print(\"Имя студента: \", best_student.name)\n",
        "print(\"Имя преподавателя: \", cool_mentor.name)\n",
        "print(\"Оценки студента по курсам: \", best_student.grades)"
      ],
      "metadata": {
        "colab": {
          "base_uri": "https://localhost:8080/"
        },
        "id": "oNc1-dVaw3ee",
        "outputId": "9220d1bd-430e-41fc-f31d-e7719af246c8"
      },
      "execution_count": null,
      "outputs": [
        {
          "output_type": "stream",
          "name": "stdout",
          "text": [
            "Имя студента:  Ruoy\n",
            "Имя преподавателя:  Some\n",
            "Оценки студента по курсам:  {'Python': [10], 'C++': [9]}\n"
          ]
        }
      ]
    },
    {
      "cell_type": "markdown",
      "source": [
        "### **3.1. Наследование**"
      ],
      "metadata": {
        "id": "08FkYxULrxE-"
      }
    },
    {
      "cell_type": "markdown",
      "source": [
        "* Класс Mentor должен стать родительским классом для преподавателей. От него нужно реализовать наследование классов Lecturer (лекторы) и Reviewer (эксперты, проверяющие домашние задания).\n",
        "\n",
        "> Имя, фамилю и список закрепленных курсов логично реализовать на уровне родительского класса."
      ],
      "metadata": {
        "id": "YNjsCv5ItOii"
      }
    },
    {
      "cell_type": "code",
      "source": [
        "class Student:\n",
        "    def __init__(self, name, surname, gender):\n",
        "        self.name = name\n",
        "        self.surname = surname\n",
        "        self.gender = gender\n",
        "        self.finished_courses = []\n",
        "        self.courses_in_progress = []\n",
        "        self.grades = {}\n",
        "\n",
        "    def add_courses(self, course_name):\n",
        "        self.finished_courses.append(course_name)\n",
        "\n",
        "\n",
        "class Mentor:\n",
        "    def __init__(self, name, surname):\n",
        "        self.name = name\n",
        "        self.surname = surname\n",
        "        self.courses_attached = []\n",
        "\n",
        "    def rate_hw(self, student, course, grade):\n",
        "        student.grades[course] = [grade]\n",
        "\n",
        "class Lecturer(Mentor):\n",
        "    def __init__(self, name, surname):\n",
        "        super().__init__(name, surname)\n",
        "\n",
        "class Reviewer(Mentor):\n",
        "    def __init__(self, name, surname):\n",
        "        super().__init__(name, surname)"
      ],
      "metadata": {
        "id": "1quZPRZKtIoc"
      },
      "execution_count": null,
      "outputs": []
    },
    {
      "cell_type": "markdown",
      "source": [
        "### **3.2. Атрибуты и взаимодействие классов**"
      ],
      "metadata": {
        "id": "oL8kB-uUtH5K"
      }
    },
    {
      "cell_type": "markdown",
      "source": [
        "* Реализуйте возможность проставления оценок студентам только Reviewer-ам (реализуйте такой метод).\n",
        "\n",
        "* Реализуйте метод выставления оценок лекторам у класса Student (оценки по 10-балльной шкале, хранятся в атрибуте-словаре у Lecturer, в котором ключи – названия курсов, а значения – списки оценок). Лектор при этом должен быть закреплен за тем курсом, на который записан студент (реализовать проверку)."
      ],
      "metadata": {
        "id": "ddcuJFCksWsY"
      }
    },
    {
      "cell_type": "code",
      "source": [
        "class Student:\n",
        "    def __init__(self, name, surname, gender):\n",
        "        self.name = name\n",
        "        self.surname = surname\n",
        "        self.gender = gender\n",
        "        self.finished_courses = []\n",
        "        self.courses_in_progress = []\n",
        "        self.grades = {}\n",
        "        self.lecturer_grades = {}\n",
        "\n",
        "    def add_courses(self, course_name):\n",
        "        self.finished_courses.append(course_name)\n",
        "\n",
        "    def rate_lecturer(self,lecturer, course, grade):\n",
        "        if isinstance(lecturer,Lecturer) and course in lecturer.courses_attached and (course in self.courses_in_progress or course in self.finished_courses):\n",
        "            if 0<grade<11:\n",
        "                if course in lecturer.grades:\n",
        "                    lecturer.grades[course].append(grade)\n",
        "                else:\n",
        "                    lecturer.grades[course] = [grade]\n",
        "            else:\n",
        "                print(\"Невозможно поставить оценку!\")\n",
        "        else:\n",
        "            print(\"Невозможно поставить оценку!\")\n",
        "\n",
        "class Mentor:\n",
        "    def __init__(self, name, surname):\n",
        "        self.name = name\n",
        "        self.surname = surname\n",
        "        self.courses_attached = []\n",
        "\n",
        "    def rate_hw(self, student, course, grade):\n",
        "        student.grades[course] = [grade]\n",
        "\n",
        "class Lecturer(Mentor):\n",
        "    def __init__(self, name, surname):\n",
        "        super().__init__(name, surname)\n",
        "        self.grades = {}\n",
        "\n",
        "class Reviewer(Mentor):\n",
        "    def __init__(self, name, surname):\n",
        "        super().__init__(name, surname)\n",
        "\n",
        "    def rate_hw(self, student, course, grade):\n",
        "        if isinstance(student, Student) and course in self.courses_attached and (course in student.courses_in_progress or course in student.finished_courses):\n",
        "            if 0 < grade < 11:\n",
        "                if course in student.grades:\n",
        "                    student.grades[course].append(grade)\n",
        "                else:\n",
        "                    student.grades[course] = [grade]\n",
        "            else:\n",
        "                print(\"Невозможно поставить оценку!\")\n",
        "        else:\n",
        "            print(\"Невозможно поставить оценку!\")"
      ],
      "metadata": {
        "id": "U30yyvuirv6H"
      },
      "execution_count": null,
      "outputs": []
    },
    {
      "cell_type": "markdown",
      "source": [
        "### **3.3. Полиморфизм и магические методы**"
      ],
      "metadata": {
        "id": "i6PrwEBSu39u"
      }
    },
    {
      "cell_type": "markdown",
      "source": [
        "Перегрузите магический метод \\_\\_str__ у всех классов.\n",
        "У проверяющих он должен выводить информацию в следующем виде:\n",
        "\n",
        "\n",
        "\n",
        "```\n",
        "print(some_reviewer)\n",
        "Имя: Some\n",
        "Фамилия: Buddy\n",
        "```\n",
        "\n",
        "У лекторов:\n",
        "\n",
        "\n",
        "\n",
        "```\n",
        "print(some_lecturer)\n",
        "Имя: Some\n",
        "Фамилия: Buddy\n",
        "Средняя оценка за лекции: 9.9\n",
        "```\n",
        "\n",
        "А у студентов так:\n",
        "\n",
        "\n",
        "\n",
        "```\n",
        "print(some_student)\n",
        "Имя: Ruoy\n",
        "Фамилия: Eman\n",
        "Средняя оценка за домашние задания: 9.9\n",
        "Курсы в процессе изучения: Python, Git\n",
        "Завершенные курсы: Введение в программирование\n",
        "```\n",
        "\n",
        "\n",
        "\n"
      ],
      "metadata": {
        "id": "GvmtjlnmvF8b"
      }
    },
    {
      "cell_type": "code",
      "source": [
        "class Student:\n",
        "    def __init__(self, name, surname, gender):\n",
        "        self.name = name\n",
        "        self.surname = surname\n",
        "        self.gender = gender\n",
        "        self.finished_courses = []\n",
        "        self.courses_in_progress = []\n",
        "        self.grades = {}\n",
        "        self.lecturer_grades = {}\n",
        "\n",
        "    def add_courses(self, course_name):\n",
        "        self.finished_courses.append(course_name)\n",
        "\n",
        "    def rate_lecturer(self,lecturer, course, grade):\n",
        "        if isinstance(lecturer,Lecturer) and course in lecturer.courses_attached and (course in self.courses_in_progress or course in self.finished_courses):\n",
        "            if 0<grade<11:\n",
        "                if course in lecturer.grades:\n",
        "                    lecturer.grades[course].append(grade)\n",
        "                else:\n",
        "                    lecturer.grades[course] = [grade]\n",
        "            else:\n",
        "                print(\"Невозможно поставить оценку!\")\n",
        "        else:\n",
        "            print(\"Невозможно поставить оценку!\")\n",
        "    def __str__(self):\n",
        "        avg_grade = 0\n",
        "        total_grades = 0\n",
        "        count = 0\n",
        "        for grades_list in self.grades.values():\n",
        "            total_grades += sum(grades_list)\n",
        "            count += len(grades_list)\n",
        "        if count > 0:\n",
        "            avg_grade = total_grades / count\n",
        "        in_progress_courses = ', '.join(self.courses_in_progress)\n",
        "        finished_courses = ', '.join(self.finished_courses)\n",
        "        return (f\"Имя: {self.name}\\n\"\n",
        "                f\"Фамилия: {self.surname}\\n\"\n",
        "                f\"Средняя оценка за домашние задания: {avg_grade:.1f}\\n\"\n",
        "                f\"Курсы в процессе изучения: {in_progress_courses}\\n\"\n",
        "                f\"Завершенные курсы: {finished_courses}\")\n",
        "class Mentor:\n",
        "    def __init__(self, name, surname):\n",
        "        self.name = name\n",
        "        self.surname = surname\n",
        "        self.courses_attached = []\n",
        "\n",
        "    def rate_hw(self, student, course, grade):\n",
        "        student.grades[course] = [grade]\n",
        "    def __str__(self):\n",
        "        return (f\"Имя: {self.name}\\n\"\n",
        "                f\"Фамилия: {self.surname}\")\n",
        "\n",
        "class Lecturer(Mentor):\n",
        "    def __init__(self, name, surname):\n",
        "        super().__init__(name, surname)\n",
        "        self.grades = {}\n",
        "    def __str__(self):\n",
        "        avg_grade = 0\n",
        "        total_grades = 0\n",
        "        count = 0\n",
        "        for grades_list in self.grades.values():\n",
        "            total_grades += sum(grades_list)\n",
        "            count += len(grades_list)\n",
        "        if count > 0:\n",
        "            avg_grade = total_grades / count\n",
        "        return (f\"Имя: {self.name}\\n\"\n",
        "                f\"Фамилия: {self.surname}\\n\"\n",
        "                f\"Средняя оценка за лекции: {avg_grade:.1f}\")\n",
        "\n",
        "class Reviewer(Mentor):\n",
        "    def __init__(self, name, surname):\n",
        "        super().__init__(name, surname)\n",
        "\n",
        "    def rate_hw(self, student, course, grade):\n",
        "        if isinstance(student, Student) and course in self.courses_attached and (course in student.courses_in_progress or course in student.finished_courses):\n",
        "            if 0 < grade < 11:\n",
        "                if course in student.grades:\n",
        "                    student.grades[course].append(grade)\n",
        "                else:\n",
        "                    student.grades[course] = [grade]\n",
        "            else:\n",
        "                print(\"Невозможно поставить оценку!\")\n",
        "        else:\n",
        "            print(\"Невозможно поставить оценку!\")\n",
        "    def __str__(self):\n",
        "        return (f\"Имя: {self.name}\\n\"\n",
        "                f\"Фамилия: {self.surname}\")"
      ],
      "metadata": {
        "id": "gCJAL_EmwU0b"
      },
      "execution_count": null,
      "outputs": []
    },
    {
      "cell_type": "markdown",
      "source": [
        "**Реализуйте перегрузку других магических методов на Ваш выбор (не менее трёх), руководствуясь по смыслу контекстом представленных классов (студенты, преподаватели, оценки и т.д.)**"
      ],
      "metadata": {
        "id": "1DNE4TE3vfYI"
      }
    },
    {
      "cell_type": "code",
      "source": [
        "class Student:\n",
        "    def __init__(self, name, surname, gender):\n",
        "        self.name = name\n",
        "        self.surname = surname\n",
        "        self.gender = gender\n",
        "        self.finished_courses = []\n",
        "        self.courses_in_progress = []\n",
        "        self.grades = {}\n",
        "        self.lecturer_grades = {}\n",
        "\n",
        "    def add_courses(self, course_name):\n",
        "        self.finished_courses.append(course_name)\n",
        "\n",
        "    def rate_lecturer(self,lecturer, course, grade):\n",
        "        if isinstance(lecturer,Lecturer) and course in lecturer.courses_attached and (course in self.courses_in_progress or course in self.finished_courses):\n",
        "            if 0<grade<11:\n",
        "                if course in lecturer.grades:\n",
        "                    lecturer.grades[course].append(grade)\n",
        "                else:\n",
        "                    lecturer.grades[course] = [grade]\n",
        "            else:\n",
        "                print(\"Невозможно поставить оценку!\")\n",
        "        else:\n",
        "            print(\"Невозможно поставить оценку!\")\n",
        "\n",
        "    def __str__(self):\n",
        "        avg_grade = 0\n",
        "        total_grades = 0\n",
        "        count = 0\n",
        "        for grades_list in self.grades.values():\n",
        "            total_grades += sum(grades_list)\n",
        "            count += len(grades_list)\n",
        "        if count > 0:\n",
        "            avg_grade = total_grades / count\n",
        "        in_progress_courses = ', '.join(self.courses_in_progress)\n",
        "        finished_courses = ', '.join(self.finished_courses)\n",
        "        return (f\"Имя: {self.name}\\n\"\n",
        "                f\"Фамилия: {self.surname}\\n\"\n",
        "                f\"Средняя оценка за домашние задания: {avg_grade:.1f}\\n\"\n",
        "                f\"Курсы в процессе изучения: {in_progress_courses}\\n\"\n",
        "                f\"Завершенные курсы: {finished_courses}\\n\")\n",
        "\n",
        "    def average_grade(self):\n",
        "        total = 0\n",
        "        count = 0\n",
        "        for grades_list in self.grades.values():\n",
        "            total += sum(grades_list)\n",
        "            count += len(grades_list)\n",
        "        return total / count if count > 0 else 0\n",
        "\n",
        "    def __lt__(self, other):\n",
        "        if not isinstance(other, Student):\n",
        "            return NotImplemented\n",
        "        return self.average_grade() < other.average_grade()\n",
        "\n",
        "    def __eq__(self, other):\n",
        "        if not isinstance(other, Student):\n",
        "            return NotImplemented\n",
        "        return self.average_grade() == other.average_grade()\n",
        "\n",
        "    def __len__(self):\n",
        "        return len(self.courses_in_progress)\n",
        "\n",
        "class Mentor:\n",
        "    def __init__(self, name, surname):\n",
        "        self.name = name\n",
        "        self.surname = surname\n",
        "        self.courses_attached = []\n",
        "\n",
        "    def rate_hw(self, student, course, grade):\n",
        "        student.grades[course] = [grade]\n",
        "    def __str__(self):\n",
        "        return (f\"Имя: {self.name}\\n\"\n",
        "                f\"Фамилия: {self.surname}\\n\")\n",
        "\n",
        "class Lecturer(Mentor):\n",
        "    def __init__(self, name, surname):\n",
        "        super().__init__(name, surname)\n",
        "        self.grades = {}\n",
        "\n",
        "    def average_grade(self):\n",
        "        total = 0\n",
        "        count = 0\n",
        "        for grades_list in self.grades.values():\n",
        "            total += sum(grades_list)\n",
        "            count += len(grades_list)\n",
        "        return total / count if count > 0 else 0\n",
        "\n",
        "    def __str__(self):\n",
        "        avg_grade = 0\n",
        "        total_grades = 0\n",
        "        count = 0\n",
        "        for grades_list in self.grades.values():\n",
        "            total_grades += sum(grades_list)\n",
        "            count += len(grades_list)\n",
        "        if count > 0:\n",
        "            avg_grade = total_grades / count\n",
        "        return (f\"Имя: {self.name}\\n\"\n",
        "                f\"Фамилия: {self.surname}\\n\"\n",
        "                f\"Средняя оценка за лекции: {avg_grade:.1f}\\n\")\n",
        "    def __lt__(self, other):\n",
        "        if not isinstance(other, Lecturer):\n",
        "            return NotImplemented\n",
        "        return self.average_grade() < other.average_grade()\n",
        "\n",
        "    def __eq__(self, other):\n",
        "        if not isinstance(other, Lecturer):\n",
        "            return NotImplemented\n",
        "        return self.average_grade() == other.average_grade()\n",
        "\n",
        "    def __len__(self):\n",
        "        return len(self.courses_attached)\n",
        "\n",
        "class Reviewer(Mentor):\n",
        "    def __init__(self, name, surname):\n",
        "        super().__init__(name, surname)\n",
        "\n",
        "    def rate_hw(self, student, course, grade):\n",
        "        if isinstance(student, Student) and course in self.courses_attached and (course in student.courses_in_progress or course in student.finished_courses):\n",
        "            if 0 < grade < 11:\n",
        "                if course in student.grades:\n",
        "                    student.grades[course].append(grade)\n",
        "                else:\n",
        "                    student.grades[course] = [grade]\n",
        "            else:\n",
        "                print(\"Невозможно поставить оценку!\")\n",
        "        else:\n",
        "            print(\"Невозможно поставить оценку!\")\n",
        "    def __str__(self):\n",
        "        return (f\"Имя: {self.name}\\n\"\n",
        "                f\"Фамилия: {self.surname}\\n\")"
      ],
      "metadata": {
        "id": "WNCf9PPMu4Gv"
      },
      "execution_count": null,
      "outputs": []
    },
    {
      "cell_type": "markdown",
      "source": [
        "### **3.4. Тестирование**\n",
        "\n",
        "Создайте по 2 экземпляра каждого класса, вызовите все созданные методы, а также реализуйте две функции:\n",
        "\n",
        "* для подсчета средней оценки за домашние задания по всем студентам в рамках конкретного курса (в качестве аргументов принимаем список студентов и название курса);\n",
        "* для подсчета средней оценки за лекции всех лекторов в рамках курса (в качестве аргумента принимаем список лекторов и название курса)."
      ],
      "metadata": {
        "id": "X8xvLNT6u4Nn"
      }
    },
    {
      "cell_type": "code",
      "source": [
        "def avg_hw_grade(students, course):\n",
        "    total = 0\n",
        "    count = 0\n",
        "    for student in students:\n",
        "        grades = student.grades.get(course, [])\n",
        "        total += sum(grades)\n",
        "        count += len(grades)\n",
        "    return total / count if count > 0 else 0\n",
        "\n",
        "def avg_lecturer_grade(lecturers, course):\n",
        "    total = 0\n",
        "    count = 0\n",
        "    for lecturer in lecturers:\n",
        "        grades = lecturer.grades.get(course, [])\n",
        "        total += sum(grades)\n",
        "        count += len(grades)\n",
        "    return total / count if count > 0 else 0\n",
        "\n",
        "student1 = Student(\"Владислав\", \"Коротеев\", \"male\")\n",
        "student2 = Student(\"Алина\", \"Маслова\", \"female\")\n",
        "\n",
        "lecturer1 = Lecturer(\"Сергей\", \"Ануфриев\")\n",
        "lecturer2 = Lecturer(\"Алексей\", \"Двилянский\")\n",
        "\n",
        "reviewer1 = Reviewer(\"Владимир\", \"Карнов\")\n",
        "reviewer2 = Reviewer(\"Екатерина\", \"Подольская\")\n",
        "\n",
        "# Добавляем курсы\n",
        "student1.courses_in_progress += [\"Python\", \"Git\"]\n",
        "student1.finished_courses += [\"Введение в программирование\"]\n",
        "student2.courses_in_progress += [\"Python\"]\n",
        "student2.finished_courses += [\"Git\"]\n",
        "\n",
        "lecturer1.courses_attached += [\"Python\"]\n",
        "lecturer2.courses_attached += [\"Git\"]\n",
        "\n",
        "reviewer1.courses_attached += [\"Python\", \"Git\"]\n",
        "reviewer2.courses_attached += [\"Python\"]\n",
        "\n",
        "# Reviewer ставит оценки студентам\n",
        "reviewer1.rate_hw(student1, \"Python\", 9)\n",
        "reviewer1.rate_hw(student1, \"Python\", 10)\n",
        "reviewer2.rate_hw(student2, \"Python\", 8)\n",
        "reviewer1.rate_hw(student2, \"Git\", 7)  # Ошибка — студент2 не учит Git (в процессе), но есть законченный\n",
        "\n",
        "# Студенты ставят оценки лекторам\n",
        "student1.rate_lecturer(lecturer1, \"Python\", 10)\n",
        "student1.rate_lecturer(lecturer2, \"Git\", 9)  # Ошибка — студент1 не учит Git\n",
        "student2.rate_lecturer(lecturer2, \"Git\", 7)\n",
        "\n",
        "# Выводы объектов\n",
        "print(student1)\n",
        "print(student2)\n",
        "print(lecturer1)\n",
        "print(lecturer2)\n",
        "print(reviewer1)\n",
        "print(reviewer2)\n",
        "\n",
        "# перегрузки\n",
        "print(student1 < student2)\n",
        "print(lecturer1 == lecturer2)\n",
        "print(len(student1), len(lecturer1))\n",
        "\n",
        "students_list = [student1, student2]\n",
        "lecturers_list = [lecturer1, lecturer2]\n",
        "\n",
        "print(f\"Средняя оценка за домашние задания по курсу Python: {avg_hw_grade(students_list, 'Python'):.2f}\")\n",
        "print(f\"Средняя оценка за лекции по курсу Git: {avg_lecturer_grade(lecturers_list, 'Git'):.2f}\")"
      ],
      "metadata": {
        "id": "uh8n08fdu4V_",
        "colab": {
          "base_uri": "https://localhost:8080/"
        },
        "outputId": "13060e20-d359-4a21-c0cb-18d9770be1ad"
      },
      "execution_count": null,
      "outputs": [
        {
          "output_type": "stream",
          "name": "stdout",
          "text": [
            "Имя: Владислав\n",
            "Фамилия: Коротеев\n",
            "Средняя оценка за домашние задания: 9.5\n",
            "Курсы в процессе изучения: Python, Git\n",
            "Завершенные курсы: Введение в программирование\n",
            "\n",
            "Имя: Алина\n",
            "Фамилия: Маслова\n",
            "Средняя оценка за домашние задания: 7.5\n",
            "Курсы в процессе изучения: Python\n",
            "Завершенные курсы: Git\n",
            "\n",
            "Имя: Сергей\n",
            "Фамилия: Ануфриев\n",
            "Средняя оценка за лекции: 10.0\n",
            "\n",
            "Имя: Алексей\n",
            "Фамилия: Двилянский\n",
            "Средняя оценка за лекции: 8.0\n",
            "\n",
            "Имя: Владимир\n",
            "Фамилия: Карнов\n",
            "\n",
            "Имя: Екатерина\n",
            "Фамилия: Подольская\n",
            "\n",
            "False\n",
            "False\n",
            "2 1\n",
            "Средняя оценка за домашние задания по курсу Python: 9.00\n",
            "Средняя оценка за лекции по курсу Git: 8.00\n"
          ]
        }
      ]
    },
    {
      "cell_type": "markdown",
      "source": [
        "## **Задание №4. Перегрузка операторов с помощью магических методов**\n"
      ],
      "metadata": {
        "id": "ehfo80anwJUM"
      }
    },
    {
      "cell_type": "markdown",
      "source": [
        "### **Цель задания:**\n",
        "\n"
      ],
      "metadata": {
        "id": "i_KsKg4awZOJ"
      }
    },
    {
      "cell_type": "markdown",
      "source": [
        "Разработать класс `Fraction` для работы с рациональными числами (дробями), реализовав перегрузку стандартных операторов через переопределение соответствующих магических методов. Ваша задача — обеспечить класс `Fraction` функциональностью, демонстрируемой в приведенном примере кода."
      ],
      "metadata": {
        "id": "JvIIB641watq"
      }
    },
    {
      "cell_type": "markdown",
      "source": [
        "### **Описание задания:**\n",
        "\n"
      ],
      "metadata": {
        "id": "BZ9kMLrYwcW_"
      }
    },
    {
      "cell_type": "markdown",
      "source": [
        "Создайте класс `Fraction`, который представляет собой обыкновенную дробь с числителем и знаменателем. Перегрузите основные арифметические операторы для выполнения операций над дробями, а также операторы сравнения. Обеспечьте возможность преобразования дроби в число с плавающей точкой и обратную операцию. Реализуйте обработку исключений при некорректных данных. Предоставьте понятное строковое и официальное представление дроби."
      ],
      "metadata": {
        "id": "6Qt56A-Bwe87"
      }
    },
    {
      "cell_type": "markdown",
      "source": [
        "**Требования к заданию:**\n"
      ],
      "metadata": {
        "id": "1lv3NnB_whqP"
      }
    },
    {
      "cell_type": "markdown",
      "source": [
        "\n",
        "1. **Класс `Fraction` должен:**\n",
        "\n",
        "   - Инициализироваться двумя целыми числами: числителем и знаменателем.\n",
        "   - Обрабатывать ситуацию когда знаменатель равен нулю, а именно выводить сообщение `\"Знаменатель не может быть нулем\"`.\n",
        "   - Упрощать дроби до несократимых при создании и после каждой арифметической операции.\n",
        "\n",
        "2. **Перегрузить следующие операторы путем переопределения магических методов:**\n",
        "\n",
        "   - **Сложение `+`** (`__add__`): сложение двух дробей, возвращает новую дробь.\n",
        "   - **Вычитание `-`** (`__sub__`): вычитание одной дроби из другой, возвращает новую дробь.\n",
        "   - **Умножение `*`** (`__mul__`): умножение двух дробей, возвращает новую дробь.\n",
        "   - **Деление `/`** (`__truediv__`): деление одной дроби на другую, возвращает новую дробь.\n",
        "   - **Равенство `==`** (`__eq__`): проверка равенства двух дробей.\n",
        "   - **Сравнения `>`, `<`, `>=`, `<=`**: сравнение дробей по их значению, реализовать методы `__lt__`, `__le__`, `__gt__`, `__ge__`.\n",
        "\n",
        "3. **Реализовать преобразование типов:**\n",
        "\n",
        "   - **Метод `__float__`**: преобразование дроби в число с плавающей точкой.\n",
        "\n",
        "4. **Дополнительные методы класса:**\n",
        "\n",
        "   - **`reciprocal()`**: возвращает новую дробь, обратную данной (числитель и знаменатель меняются местами).\n",
        "   - **Строковое представление** (`__str__`): возвращает строку вида `\"числитель/знаменатель\"`. Если знаменатель равен 1, возвращает только числитель в виде строки.\n",
        "   - **Официальное представление** (`__repr__`): возвращает строку вида `\"Fraction(числитель, знаменатель)\"`.\n",
        "\n",
        "5. **Обработка исключений:**\n",
        "\n",
        "   - При попытке создать дробь с нулевым знаменателем выводить в консоль сообщение `ValueError`.\n",
        "   - При попытке деления на нулевую дробь, выводить в консоль сообщение `ZeroDivisionError`.\n",
        "\n",
        "6. **Тестирование:**\n",
        "\n",
        "   - Написать код, демонстрирующий работу всех реализованных методов и операторов, используя примеры, приведенные ниже.\n",
        "   - Обеспечить корректную обработку исключений и вывод соответствующих сообщений.\n",
        "\n",
        "\n",
        "\n"
      ],
      "metadata": {
        "id": "4tJX8suPv0TY"
      }
    },
    {
      "cell_type": "code",
      "source": [
        "import math\n",
        "\n",
        "class Fraction:\n",
        "    def __init__(self,numerator,denominator):\n",
        "        if denominator == 0:\n",
        "            raise ValueError(\"Знаменатель не может быть равен нулю\")\n",
        "        self.numerator = numerator\n",
        "        self.denominator = denominator\n",
        "\n",
        "    def __repr__(self):\n",
        "        return f\"Fraction({self.numerator},{self.denominator})\"\n",
        "\n",
        "    def __str__(self):\n",
        "        return f\"{self.numerator}/{self.denominator}\"\n",
        "\n",
        "    def com_den(self, other):\n",
        "        return abs(self.denominator * other.denominator) // math.gcd(self.denominator, other.denominator)\n",
        "\n",
        "    def __add__(self, other):\n",
        "        if isinstance(other,Fraction):\n",
        "            return Fraction(self.numerator * self.com_den(other) // self.denominator + other.numerator * self.com_den(other) // other.denominator, self.com_den(other))\n",
        "        return NotImplemented\n",
        "\n",
        "    def __sub__(self, other):\n",
        "        if isinstance(other,Fraction):\n",
        "            return Fraction(self.numerator * self.com_den(other) // self.denominator - other.numerator * self.com_den(other) // other.denominator, self.com_den(other))\n",
        "        return NotImplemented\n",
        "\n",
        "    def __mul__(self, other):\n",
        "        if isinstance(other,Fraction):\n",
        "            new_numerator = self.numerator * other.numerator\n",
        "            new_denominator = self.denominator * other.denominator\n",
        "            nod = math.gcd(new_numerator, new_denominator)\n",
        "            return Fraction(new_numerator // nod, new_denominator // nod)\n",
        "        return NotImplemented\n",
        "\n",
        "    def __truediv__(self, other):\n",
        "        if isinstance(other,Fraction):\n",
        "            new_numerator = self.numerator * other.denominator\n",
        "            new_denominator = self.denominator * other.numerator\n",
        "            nod = math.gcd(new_numerator, new_denominator)\n",
        "            return Fraction(new_numerator // nod, new_denominator // nod)\n",
        "        return NotImplemented\n",
        "\n",
        "    def __eq__(self, other):\n",
        "        if isinstance(other,Fraction):\n",
        "            if self.numerator * self.com_den(other) //self.denominator == other.numerator * self.com_den(other) // other.denominator:\n",
        "                return True\n",
        "            return False\n",
        "        return NotImplemented\n",
        "\n",
        "    def __lt__(self, other):\n",
        "        if isinstance(other,Fraction):\n",
        "            if self.numerator * self.com_den(other) //self.denominator < other.numerator * self.com_den(other) // other.denominator:\n",
        "                return True\n",
        "            return False\n",
        "        return NotImplemented\n",
        "\n",
        "    def __le__(self, other):\n",
        "        if isinstance(other,Fraction):\n",
        "            if self.numerator * self.com_den(other) //self.denominator >= other.numerator * self.com_den(other) // other.denominator:\n",
        "                return True\n",
        "            return False\n",
        "        return NotImplemented\n",
        "\n",
        "    def __gt__(self, other):\n",
        "        if isinstance(other,Fraction):\n",
        "            if self.numerator * self.com_den(other) //self.denominator > other.numerator * self.com_den(other) // other.denominator:\n",
        "                return True\n",
        "            return False\n",
        "        return NotImplemented\n",
        "\n",
        "    def __ge__(self, other):\n",
        "        if isinstance(other,Fraction):\n",
        "            if self.numerator * self.com_den(other) //self.denominator >= other.numerator * self.com_den(other) // other.denominator:\n",
        "                return True\n",
        "            return False\n",
        "        return NotImplemented\n",
        "\n",
        "    def __float__(self):\n",
        "        return float(self.numerator / self.denominator)\n",
        "\n",
        "    def reciprocal(self):\n",
        "        return Fraction(self.denominator, self.numerator)\n",
        "\n",
        "    def from_float(other):\n",
        "        numerator, denominator = other.as_integer_ratio()\n",
        "        return Fraction(numerator, denominator)"
      ],
      "metadata": {
        "id": "58JlCtFkxpmU"
      },
      "execution_count": 1,
      "outputs": []
    },
    {
      "cell_type": "markdown",
      "source": [
        "**Тесты для класса `Fraction`:**\n"
      ],
      "metadata": {
        "id": "N5tZxFvIxdIy"
      }
    },
    {
      "cell_type": "code",
      "source": [
        "# Создание дробей\n",
        "f1 = Fraction(3, 4)\n",
        "f2 = Fraction(5, 6)\n",
        "\n",
        "# Сложение дробей\n",
        "f3 = f1 + f2\n",
        "print(f3)  # Ожидаемый вывод: 19/12\n",
        "\n",
        "# Вычитание дробей\n",
        "f4 = f1 - f2\n",
        "print(f4)  # Ожидаемый вывод: -1/12\n",
        "\n",
        "# Умножение дробей\n",
        "f5 = f1 * f2\n",
        "print(f5)  # Ожидаемый вывод: 5/8\n",
        "\n",
        "# Деление дробей\n",
        "f6 = f1 / f2\n",
        "print(f6)  # Ожидаемый вывод: 9/10\n",
        "\n",
        "# Проверка равенства\n",
        "print(f1 == Fraction(6, 8))   # Ожидаемый вывод: True\n",
        "\n",
        "# Сравнение дробей\n",
        "print(f1 > f2)    # Ожидаемый вывод: False\n",
        "print(f1 < f2)    # Ожидаемый вывод: True\n",
        "\n",
        "# Преобразование к float\n",
        "print(float(f1))  # Ожидаемый вывод: 0.75\n",
        "\n",
        "# Обратная дробь\n",
        "f7 = f1.reciprocal()\n",
        "print(f7)         # Ожидаемый вывод: 4/3\n",
        "\n",
        "# Создание дроби из float\n",
        "f8 = Fraction.from_float(0.75)\n",
        "print(f8)         # Ожидаемый вывод: 3/4\n",
        "\n",
        "# Проверка обработки исключений\n",
        "try:\n",
        "    f_invalid = Fraction(5, 0)\n",
        "except ValueError as e:\n",
        "    print(e)  # Ожидаемый вывод: Знаменатель не может быть нулем\n",
        "\n",
        "# Строковое и официальное представление\n",
        "print(str(f1))    # Ожидаемый вывод: 3/4\n",
        "print(repr(f1))   # Ожидаемый вывод: Fraction(3, 4)"
      ],
      "metadata": {
        "id": "U1UtgDM0xlqJ",
        "colab": {
          "base_uri": "https://localhost:8080/"
        },
        "outputId": "bbb8a552-d4b0-4320-cee4-6a718a24bfc8"
      },
      "execution_count": 2,
      "outputs": [
        {
          "output_type": "stream",
          "name": "stdout",
          "text": [
            "19/12\n",
            "-1/12\n",
            "5/8\n",
            "9/10\n",
            "True\n",
            "False\n",
            "True\n",
            "0.75\n",
            "4/3\n",
            "3/4\n",
            "Знаменатель не может быть равен нулю\n",
            "3/4\n",
            "Fraction(3,4)\n"
          ]
        }
      ]
    }
  ]
}