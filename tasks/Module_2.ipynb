{
  "nbformat": 4,
  "nbformat_minor": 0,
  "metadata": {
    "colab": {
      "provenance": [],
      "include_colab_link": true
    },
    "kernelspec": {
      "name": "python3",
      "display_name": "Python 3"
    },
    "language_info": {
      "name": "python"
    }
  },
  "cells": [
    {
      "cell_type": "markdown",
      "metadata": {
        "id": "view-in-github",
        "colab_type": "text"
      },
      "source": [
        "<a href=\"https://colab.research.google.com/github/AndrBoch/University/blob/main/tasks/Module_2.ipynb\" target=\"_parent\"><img src=\"https://colab.research.google.com/assets/colab-badge.svg\" alt=\"Open In Colab\"/></a>"
      ]
    },
    {
      "cell_type": "markdown",
      "source": [
        "# **Практическая работа №2. Введение в Python. Циклы в Python: for и while. Функции в Python. Обработка исключений в Python (try, except, else, finally)**\n",
        "\n",
        "---\n",
        "\n",
        "\n"
      ],
      "metadata": {
        "id": "QliphIp1pbse"
      }
    },
    {
      "cell_type": "markdown",
      "source": [
        "**Обучающийся:** *Бочкарев Андрей Дмитриевич*  "
      ],
      "metadata": {
        "id": "tTK8mNGDqA8Z"
      }
    },
    {
      "cell_type": "markdown",
      "source": [
        "\n",
        "\n",
        "---"
      ],
      "metadata": {
        "id": "wTJjWD61p_dZ"
      }
    },
    {
      "cell_type": "markdown",
      "source": [
        "## **Блок заданий №1. Циклы в Python: for и while**\n",
        "\n"
      ],
      "metadata": {
        "id": "-iXZOjjEoLsS"
      }
    },
    {
      "cell_type": "markdown",
      "source": [
        "### 1. **Сумма чисел от 1 до N**  \n",
        "   Напишите программу, которая запрашивает у пользователя число `N` и с помощью цикла `for` вычисляет сумму всех чисел от 1 до `N`."
      ],
      "metadata": {
        "id": "1Vy5lAnxoTrL"
      }
    },
    {
      "cell_type": "code",
      "source": [
        "n = int(input(\"Введите число: \"))\n",
        "summ = 0\n",
        "for i in range(n+1):#Сделал с n включительно\n",
        "  summ+=i\n",
        "print(summ)"
      ],
      "metadata": {
        "id": "GNtKZwXSoSNg",
        "colab": {
          "base_uri": "https://localhost:8080/"
        },
        "outputId": "06fbc55a-2962-40de-fcda-dced884d107c"
      },
      "execution_count": 1,
      "outputs": [
        {
          "output_type": "stream",
          "name": "stdout",
          "text": [
            "Введите число: 4\n",
            "10\n"
          ]
        }
      ]
    },
    {
      "cell_type": "markdown",
      "source": [
        "\n",
        "### 2. **Вывод четных чисел**  \n",
        "   Используя цикл `while`, напишите программу, которая выводит все четные числа от 1 до 100."
      ],
      "metadata": {
        "id": "JgNf_8IToNQH"
      }
    },
    {
      "cell_type": "code",
      "source": [
        "i = 2\n",
        "a = []\n",
        "while i<=100:\n",
        "  a.append(i)\n",
        "  i+=2\n",
        "print(*a)"
      ],
      "metadata": {
        "id": "0Mgimf-9oWjm",
        "colab": {
          "base_uri": "https://localhost:8080/"
        },
        "outputId": "c190f1c3-9852-4a63-f122-d916ee789623"
      },
      "execution_count": 2,
      "outputs": [
        {
          "output_type": "stream",
          "name": "stdout",
          "text": [
            "2 4 6 8 10 12 14 16 18 20 22 24 26 28 30 32 34 36 38 40 42 44 46 48 50 52 54 56 58 60 62 64 66 68 70 72 74 76 78 80 82 84 86 88 90 92 94 96 98 100\n"
          ]
        }
      ]
    },
    {
      "cell_type": "markdown",
      "source": [
        "### 3. **Таблица умножения**  \n",
        "   Напишите программу, которая с помощью вложенного цикла `for` выводит таблицу умножения (от 1 до 10)."
      ],
      "metadata": {
        "id": "WvLRnMt8oOpv"
      }
    },
    {
      "cell_type": "markdown",
      "source": [
        "**Пример выходных данных**\n",
        "```\n",
        "   1   2   3   4   5   6   7   8   9  10\n",
        "   2   4   6   8  10  12  14  16  18  20\n",
        "   3   6   9  12  15  18  21  24  27  30\n",
        "   4   8  12  16  20  24  28  32  36  40\n",
        "   5  10  15  20  25  30  35  40  45  50\n",
        "   6  12  18  24  30  36  42  48  54  60\n",
        "   7  14  21  28  35  42  49  56  63  70\n",
        "   8  16  24  32  40  48  56  64  72  80\n",
        "   9  18  27  36  45  54  63  72  81  90\n",
        "  10  20  30  40  50  60  70  80  90 100\n",
        "```\n"
      ],
      "metadata": {
        "id": "lMCzrvNAuiPt"
      }
    },
    {
      "cell_type": "code",
      "source": [
        "a = [[0]*10 for _ in range(10)]\n",
        "for i in range(1,11):\n",
        "    for j in range(1, 11):\n",
        "        a[i-1][j-1] = i*j\n",
        "for h in range(10):\n",
        "    for l in a[h]:\n",
        "        print(f\"{l:3}\", end=\" \")\n",
        "    print()\n"
      ],
      "metadata": {
        "id": "9bTYZUCqoW9l",
        "colab": {
          "base_uri": "https://localhost:8080/"
        },
        "outputId": "ed7435c8-bc8e-4a0e-cb91-357b9d2937f4"
      },
      "execution_count": 3,
      "outputs": [
        {
          "output_type": "stream",
          "name": "stdout",
          "text": [
            "  1   2   3   4   5   6   7   8   9  10 \n",
            "  2   4   6   8  10  12  14  16  18  20 \n",
            "  3   6   9  12  15  18  21  24  27  30 \n",
            "  4   8  12  16  20  24  28  32  36  40 \n",
            "  5  10  15  20  25  30  35  40  45  50 \n",
            "  6  12  18  24  30  36  42  48  54  60 \n",
            "  7  14  21  28  35  42  49  56  63  70 \n",
            "  8  16  24  32  40  48  56  64  72  80 \n",
            "  9  18  27  36  45  54  63  72  81  90 \n",
            " 10  20  30  40  50  60  70  80  90 100 \n"
          ]
        }
      ]
    },
    {
      "cell_type": "markdown",
      "source": [
        "### 4. **Обратный отсчет**  \n",
        "   Напишите программу, которая с помощью цикла `while` выводит обратный отсчет от 10 до 1, а затем выводит сообщение \"Старт!\"."
      ],
      "metadata": {
        "id": "alRU4K6moPoX"
      }
    },
    {
      "cell_type": "code",
      "source": [
        "i=10\n",
        "while i>0:\n",
        "  print(i)\n",
        "  i-=1\n",
        "print(\"Старт!\")"
      ],
      "metadata": {
        "id": "xlwpaJbkoXja",
        "colab": {
          "base_uri": "https://localhost:8080/"
        },
        "outputId": "4fd54643-56a7-4f2f-a326-b62c756dbf04"
      },
      "execution_count": 4,
      "outputs": [
        {
          "output_type": "stream",
          "name": "stdout",
          "text": [
            "10\n",
            "9\n",
            "8\n",
            "7\n",
            "6\n",
            "5\n",
            "4\n",
            "3\n",
            "2\n",
            "1\n",
            "Старт!\n"
          ]
        }
      ]
    },
    {
      "cell_type": "markdown",
      "source": [
        "\n",
        "\n",
        "### 5. **Поиск максимального числа**  \n",
        "   Напишите программу, которая запрашивает у пользователя 5 чисел и с помощью цикла `for` находит и выводит максимальное из них."
      ],
      "metadata": {
        "id": "ZOrByPyjoQrK"
      }
    },
    {
      "cell_type": "code",
      "source": [
        "a = input(\"Введите 5 чисел: \").split()\n",
        "maxx=a[0]\n",
        "for i in range(len(a)):\n",
        "  if a[i]>maxx:\n",
        "    maxx = a[i]\n",
        "print(maxx)"
      ],
      "metadata": {
        "id": "nPiZGu03oX6V",
        "colab": {
          "base_uri": "https://localhost:8080/"
        },
        "outputId": "bec6bb5c-9a87-4795-b38d-c14a5e0f126b"
      },
      "execution_count": 5,
      "outputs": [
        {
          "output_type": "stream",
          "name": "stdout",
          "text": [
            "Введите 5 чисел: 55 22 66 2 14\n",
            "66\n"
          ]
        }
      ]
    },
    {
      "cell_type": "markdown",
      "source": [
        "## **Блок заданий №2. Функции в Python**\n"
      ],
      "metadata": {
        "id": "n3_ntES4op47"
      }
    },
    {
      "cell_type": "markdown",
      "source": [
        "При написании функций используйте аннотацию типов, а также добавляйте строку документации."
      ],
      "metadata": {
        "id": "e8JyxIPov56d"
      }
    },
    {
      "cell_type": "markdown",
      "source": [
        "### 1. **Функция для вычисления факториала**  \n",
        "   Напишите функцию `factorial(n)`, которая принимает число `n` и возвращает его факториал. Проверьте работу функции на нескольких примерах.\n",
        "\n",
        "\n",
        "\n",
        "\n",
        "\n",
        "\n",
        "\n"
      ],
      "metadata": {
        "id": "0hZbwgVmocJb"
      }
    },
    {
      "cell_type": "code",
      "source": [
        "#Возможно надо было без рекурсии,\n",
        "#Но это самая простая рекурсивная функция, поэтому вот |\n",
        "def factorial(n):#<------------------------------------\n",
        "  if n <= 1:\n",
        "    return 1\n",
        "  else:\n",
        "    return n * factorial(n-1)\n",
        "print(factorial(5))\n",
        "print(factorial(7))\n",
        "print(factorial(2))"
      ],
      "metadata": {
        "id": "-HdkvvY9owo8",
        "colab": {
          "base_uri": "https://localhost:8080/"
        },
        "outputId": "9498109c-4439-4f7f-efb7-faf846a257a2"
      },
      "execution_count": 6,
      "outputs": [
        {
          "output_type": "stream",
          "name": "stdout",
          "text": [
            "120\n",
            "5040\n",
            "2\n"
          ]
        }
      ]
    },
    {
      "cell_type": "markdown",
      "source": [
        "### 2. **Функция для проверки четности**  \n",
        "   Напишите функцию `is_even(n)`, которая принимает число `n` и возвращает `True`, если число четное, и `False` в противном случае."
      ],
      "metadata": {
        "id": "xEQgEhEKovb6"
      }
    },
    {
      "cell_type": "code",
      "source": [
        "def is_even(n):\n",
        "  if n%2==0:\n",
        "    return True\n",
        "  else:\n",
        "    return False\n",
        "print (is_even(4))\n",
        "print (is_even(5))"
      ],
      "metadata": {
        "id": "Qbgw2_QLow--",
        "colab": {
          "base_uri": "https://localhost:8080/"
        },
        "outputId": "69d4873d-92ab-428e-a8e9-88e2823c83e3"
      },
      "execution_count": 7,
      "outputs": [
        {
          "output_type": "stream",
          "name": "stdout",
          "text": [
            "True\n",
            "False\n"
          ]
        }
      ]
    },
    {
      "cell_type": "markdown",
      "source": [
        "### 3. **Функция с именованными аргументами**  \n",
        "   Напишите функцию `person_info(name, age, city=\"Москва\")`, которая принимает имя, возраст и город (по умолчанию \"Москва\"). Функция должна возвращать строку с информацией о человеке.  \n",
        "   \n",
        "   Пример:  \n",
        "```\n",
        "person_info(\"Иван\", 25) → \"Иван, 25 лет, из города Москва\"\n",
        "person_info(\"Мария\", 30, \"Санкт-Петербург\") → \"Мария, 30 лет, из города Санкт-Петербург\"\n",
        "```"
      ],
      "metadata": {
        "id": "-PWnY3LcouSk"
      }
    },
    {
      "cell_type": "code",
      "source": [
        "def format_age(age): # Функция для красоты\n",
        "    age = int(age)\n",
        "    if 11 <= age % 100 <= 14:\n",
        "        suffix = \"лет\"\n",
        "    else:\n",
        "        last_digit = age % 10\n",
        "        if last_digit == 1:\n",
        "            suffix = \"год\"\n",
        "        elif 2 <= last_digit <= 4:\n",
        "            suffix = \"года\"\n",
        "        else:\n",
        "            suffix = \"лет\"\n",
        "    return suffix\n",
        "def person_info(name, age, city=\"Москва\"):\n",
        "  return f\"{name}, {age} {format_age(age)}, из города {city}\"\n",
        "print(person_info(\"Андрей\", \"22\"))"
      ],
      "metadata": {
        "id": "8x-s4u8voxUR",
        "colab": {
          "base_uri": "https://localhost:8080/"
        },
        "outputId": "c37272d0-5418-422e-d50d-19063cd40a66"
      },
      "execution_count": 8,
      "outputs": [
        {
          "output_type": "stream",
          "name": "stdout",
          "text": [
            "Андрей, 22 года, из города Москва\n"
          ]
        }
      ]
    },
    {
      "cell_type": "markdown",
      "source": [
        "### 4. **Фильтрация четных чисел**  \n",
        "   Напишите функцию `filter_even(*args)`, которая принимает произвольное количество чисел и возвращает список только из четных чисел.  \n",
        "   Пример:  \n",
        "   ```\n",
        "   filter_even(1, 2, 3, 4, 5, 6) → [2, 4, 6]\n",
        "   filter_even(7, 9, 11) → []\n",
        "   ```"
      ],
      "metadata": {
        "id": "DxtROjY3osrS"
      }
    },
    {
      "cell_type": "code",
      "source": [
        "def filter_even(*args):\n",
        "  a = []\n",
        "  for i in args:\n",
        "    if i%2==0:\n",
        "      a.append(i)\n",
        "  return a\n",
        "print(*filter_even(1, 2, 3, 4, 5, 6))"
      ],
      "metadata": {
        "id": "CMROKo1Iox9C",
        "colab": {
          "base_uri": "https://localhost:8080/"
        },
        "outputId": "15d57b17-c71e-42d7-c359-a281b96cbfa6"
      },
      "execution_count": 9,
      "outputs": [
        {
          "output_type": "stream",
          "name": "stdout",
          "text": [
            "2 4 6\n"
          ]
        }
      ]
    },
    {
      "cell_type": "markdown",
      "source": [
        "### 5. **Функция для вычисления статистики**  \n",
        "   Напишите функцию `calculate_stats(*args, **kwargs)`, которая:  \n",
        "   - Из позиционных аргументов вычисляет минимальное, максимальное и среднее значение.  \n",
        "   - Из именованных аргументов возвращает словарь, где ключи — это аргументы, а значения — их типы данных.  \n",
        "   Пример:  \n",
        "   ```\n",
        "   calculate_stats(1, 2, 3, 4, name=\"Иван\", age=25) → ((1, 4, 2.5), {\"name\": \"str\", \"age\": \"int\"})\n",
        "   ```"
      ],
      "metadata": {
        "id": "TPLTxuASorpB"
      }
    },
    {
      "cell_type": "code",
      "source": [
        "def calculate_stats(*args, **kwargs):\n",
        "  minn = min(args)\n",
        "  maxx = max(args)\n",
        "  aver = sum(args) / len(args)\n",
        "  a = {}\n",
        "  for i in kwargs:\n",
        "    a[i] = type(kwargs[i]).__name__\n",
        "  return (minn, maxx, aver), a\n",
        "print(calculate_stats(1, 2, 3, 4, name=\"Иван\", age=25))"
      ],
      "metadata": {
        "id": "F-1JYEoMoykp",
        "colab": {
          "base_uri": "https://localhost:8080/"
        },
        "outputId": "561e6f43-b440-4394-9d77-37b1730a7b4d"
      },
      "execution_count": 10,
      "outputs": [
        {
          "output_type": "stream",
          "name": "stdout",
          "text": [
            "((1, 4, 2.5), {'name': 'str', 'age': 'int'})\n"
          ]
        }
      ]
    },
    {
      "cell_type": "markdown",
      "source": [
        "## **Блок заданий №3. Работа с текстовыми файлами в Python**\n"
      ],
      "metadata": {
        "id": "ZwSzb-PToe-5"
      }
    },
    {
      "cell_type": "markdown",
      "source": [
        "### 1. **Запись в файл**  \n",
        "   Напишите программу, которая запрашивает у пользователя строку и записывает её в файл `output.txt`."
      ],
      "metadata": {
        "id": "NO_aT90DpDwS"
      }
    },
    {
      "cell_type": "code",
      "source": [
        "text = input(\"Введите строку: \")\n",
        "with open(\"output.txt\", \"w\", encoding=\"utf-8\") as file1:\n",
        "    file1.write(text)"
      ],
      "metadata": {
        "id": "CNGiLXnkpUfa",
        "colab": {
          "base_uri": "https://localhost:8080/"
        },
        "outputId": "3bd0e7bc-380b-4023-c905-33473f16de7f"
      },
      "execution_count": 32,
      "outputs": [
        {
          "name": "stdout",
          "output_type": "stream",
          "text": [
            "Введите строку: fewwfewf\n"
          ]
        }
      ]
    },
    {
      "cell_type": "markdown",
      "source": [
        "### 2. **Чтение из файла**  \n",
        "   Напишите программу, которая открывает файл `output.txt` и выводит его содержимое на экран."
      ],
      "metadata": {
        "id": "fy_uuck5pE8B"
      }
    },
    {
      "cell_type": "code",
      "source": [
        "with open(\"output.txt\", \"r\", encoding=\"utf-8\") as file1:\n",
        "    text = file1.read()\n",
        "    print(text)"
      ],
      "metadata": {
        "id": "-9eB_a1rpUuA",
        "colab": {
          "base_uri": "https://localhost:8080/"
        },
        "outputId": "17908c2f-8fa0-4f53-e1fc-3cdcdf3d8933"
      },
      "execution_count": 33,
      "outputs": [
        {
          "output_type": "stream",
          "name": "stdout",
          "text": [
            "fewwfewf\n"
          ]
        }
      ]
    },
    {
      "cell_type": "markdown",
      "source": [
        "### 3. **Подсчет строк в файле**  \n",
        "   Напишите программу, которая открывает файл `output.txt` и подсчитывает количество строк в нём."
      ],
      "metadata": {
        "id": "yaF0YWwYpF7a"
      }
    },
    {
      "cell_type": "code",
      "source": [
        "with open(\"output.txt\", \"r\", encoding=\"utf-8\") as file1:\n",
        "    countt = len(file1.readlines())\n",
        "print(countt)"
      ],
      "metadata": {
        "id": "lZsdbitnpU8y",
        "colab": {
          "base_uri": "https://localhost:8080/"
        },
        "outputId": "324307f2-5714-42d1-c146-bd7b36e66b63"
      },
      "execution_count": 34,
      "outputs": [
        {
          "output_type": "stream",
          "name": "stdout",
          "text": [
            "1\n"
          ]
        }
      ]
    },
    {
      "cell_type": "markdown",
      "source": [
        "### 4. **Копирование содержимого файла**  \n",
        "   Напишите программу, которая копирует содержимое файла `input.txt` в файл `output.txt`."
      ],
      "metadata": {
        "id": "Ps4aMC32pG3q"
      }
    },
    {
      "cell_type": "code",
      "source": [
        "\n",
        "text = \"FFF\"\n",
        "with open(\"input.txt\", \"w\", encoding=\"utf-8\") as file1:\n",
        "    file1.write(text)\n",
        "file1.close()\n",
        "with open(\"input.txt\", \"r\", encoding=\"utf-8\") as file1:\n",
        "    text = file1.read()\n",
        "with open(\"output.txt\", \"w\", encoding=\"utf-8\") as file2:\n",
        "    file2.write(text)"
      ],
      "metadata": {
        "id": "x2LuA9ZwpVPz"
      },
      "execution_count": 36,
      "outputs": []
    },
    {
      "cell_type": "markdown",
      "source": [
        "### 5. **Поиск слова в файле**  \n",
        "   Напишите программу, которая открывает файл `output.txt` и проверяет, содержится ли в нём слово, введённое пользователем."
      ],
      "metadata": {
        "id": "lWGe5Xj4oIn-"
      }
    },
    {
      "cell_type": "code",
      "source": [
        "word = input(\"Введите слово для поиска: \")\n",
        "with open(\"output.txt\", \"r\", encoding=\"utf-8\") as file:\n",
        "    text = file.read()\n",
        "if word in text:\n",
        "    print(\"Слово найдено!\")\n",
        "else:\n",
        "    print(\"Слово не найдено.\")"
      ],
      "metadata": {
        "id": "dqPsCHK2pVha",
        "colab": {
          "base_uri": "https://localhost:8080/"
        },
        "outputId": "98b2ce26-c9ad-4ced-aa44-d3fd6689c3d7"
      },
      "execution_count": 30,
      "outputs": [
        {
          "output_type": "stream",
          "name": "stdout",
          "text": [
            "Введите слово для поиска: fef\n",
            "Слово не найдено.\n"
          ]
        }
      ]
    },
    {
      "cell_type": "markdown",
      "source": [
        "## **Блок заданий №4. Обработка исключений в Python (try, except, else, finally)**\n"
      ],
      "metadata": {
        "id": "1kJHV5F1o2W-"
      }
    },
    {
      "cell_type": "markdown",
      "source": [
        "### 1. **Чтение файла с обработкой FileNotFoundError**  \n",
        "   Напишите программу, которая запрашивает у пользователя имя (или путь к) файла и пытается открыть его. Если файла не существует, перехватите FileNotFoundError и выведите сообщение «Файл не найден!».\n",
        "\n",
        "\n",
        "\n",
        "\n",
        "\n",
        "\n",
        "\n"
      ],
      "metadata": {
        "id": "EpLMWWsYog9c"
      }
    },
    {
      "cell_type": "code",
      "source": [
        "filename = input(\"Введите имя или путь к файлу: \")\n",
        "\n",
        "try:\n",
        "    with open(filename, \"r\", encoding=\"utf-8\") as file1:\n",
        "        text = file1.read()\n",
        "except FileNotFoundError:\n",
        "    print(\"Файл не найден!\")"
      ],
      "metadata": {
        "id": "pdSXLhuAo9wL",
        "colab": {
          "base_uri": "https://localhost:8080/"
        },
        "outputId": "f10dcc88-6145-43f8-da26-245b7acc2c3d"
      },
      "execution_count": 38,
      "outputs": [
        {
          "output_type": "stream",
          "name": "stdout",
          "text": [
            "Введите имя или путь к файлу: df.txt\n",
            "Файл не найден!\n"
          ]
        }
      ]
    },
    {
      "cell_type": "markdown",
      "source": [
        "### 2. **Простейший калькулятор с обработкой нескольких исключений**  \n",
        "   Напишите программу, которая спрашивает у пользователя два числа и операцию (+, -, *, /). При попытках сложения или вычитания некорректных значений перехватывайте ValueError, а при делении на ноль — ZeroDivisionError, выводя соответствующие сообщения.\n"
      ],
      "metadata": {
        "id": "_1KEOBCho7wv"
      }
    },
    {
      "cell_type": "code",
      "source": [
        "try:\n",
        "    a = input(\"Введите первое число: \")\n",
        "    b = input(\"Введите второе число: \")\n",
        "    num1 = float(a)\n",
        "    num2 = float(b)\n",
        "    op = input(\"Введите операцию (+, -, *, /): \")\n",
        "\n",
        "    if op == '+':\n",
        "        result = num1 + num2\n",
        "    elif op == '-':\n",
        "        result = num1 - num2\n",
        "    elif op == '*':\n",
        "        result = num1 * num2\n",
        "    elif op == '/':\n",
        "        result = num1 / num2\n",
        "    else:\n",
        "        print(\"Неизвестная операция\")\n",
        "        result = None\n",
        "\n",
        "    if result is not None:\n",
        "        print(\"Результат:\", result)\n",
        "\n",
        "except ValueError:\n",
        "    print(\"Ошибка: введены некорректные числа\")\n",
        "except ZeroDivisionError:\n",
        "    print(\"Ошибка: деление на ноль невозможно\")\n"
      ],
      "metadata": {
        "id": "WPcrPlXWo-bz",
        "colab": {
          "base_uri": "https://localhost:8080/"
        },
        "outputId": "7e7fccb8-bde0-4789-a054-9bf982d2f2b9"
      },
      "execution_count": 39,
      "outputs": [
        {
          "output_type": "stream",
          "name": "stdout",
          "text": [
            "Введите первое число: 8\n",
            "Введите второе число: b\n",
            "Ошибка: введены некорректные числа\n"
          ]
        }
      ]
    },
    {
      "cell_type": "markdown",
      "source": [
        "### 3. **Обработка некорректного индекса (IndexError)**  \n",
        "   Создайте список из нескольких элементов (например, [10, 20, 30]). Попросите пользователя ввести индекс элемента, который нужно вывести. Если пользователь введёт индекс, выходящий за границы списка, перехватите IndexError и сообщите об этом в консоли в свободной форме."
      ],
      "metadata": {
        "id": "I-0e0lcio6tK"
      }
    },
    {
      "cell_type": "code",
      "source": [
        "a = [10, 20, 30]\n",
        "try:\n",
        "    index = int(input(\"Введите индекс элемента (начиная с 0): \"))\n",
        "    print(\"Элемент с индексом\", index, \":\", a[index])\n",
        "except IndexError:\n",
        "    print(\"Ошибка: введён индекс вне диапазона списка!\")"
      ],
      "metadata": {
        "id": "8XSXyscqo-2U",
        "colab": {
          "base_uri": "https://localhost:8080/"
        },
        "outputId": "75dca42d-3d49-4954-d0d9-0427f1a8e12b"
      },
      "execution_count": 43,
      "outputs": [
        {
          "output_type": "stream",
          "name": "stdout",
          "text": [
            "Введите индекс элемента (начиная с 0): 5\n",
            "Ошибка: введён индекс вне диапазона списка!\n"
          ]
        }
      ]
    },
    {
      "cell_type": "markdown",
      "source": [
        "### 4. **Чтение и запись в файл с обработкой ошибок**  \n",
        "  Напишите программу, которая:  \n",
        "  - Запрашивает у пользователя имя файла.  \n",
        "  - Если файл существует, программа читает его содержимое и выводит на экран.  \n",
        "  - Если файл не существует, программа создает его и записывает в него строку `\"Файл был создан\"`.  \n",
        "  Используйте обработку исключений.\n",
        "\n",
        "  Пример:  \n",
        "    ```\n",
        "    Введите имя файла: data.txt  \n",
        "    Файл не найден. Создан новый файл.\n",
        "    ```"
      ],
      "metadata": {
        "id": "OeQvEFV9o5My"
      }
    },
    {
      "cell_type": "code",
      "source": [
        "filename = input(\"Введите имя файла: \")\n",
        "\n",
        "try:\n",
        "    with open(filename, \"r\", encoding=\"utf-8\") as file1:\n",
        "        text = file1.read()\n",
        "    print(text)\n",
        "except FileNotFoundError:\n",
        "    print(\"Файл не найден. Создан новый файл.\")\n",
        "    with open(filename, \"w\", encoding=\"utf-8\") as file1:\n",
        "        file1.write(\"Файл был создан\")"
      ],
      "metadata": {
        "id": "ttNZVIbQo_LV",
        "colab": {
          "base_uri": "https://localhost:8080/"
        },
        "outputId": "04597e6b-0a52-432c-90e0-c185981f7949"
      },
      "execution_count": 44,
      "outputs": [
        {
          "output_type": "stream",
          "name": "stdout",
          "text": [
            "Введите имя файла: ff.txt\n",
            "Файл не найден. Создан новый файл.\n"
          ]
        }
      ]
    },
    {
      "cell_type": "markdown",
      "source": [
        "\n",
        "### 5. **Обработка исключений в цикле**  \n",
        "  Напишите программу, которая запрашивает у пользователя числа и добавляет их в список.  \n",
        "  - Если пользователь вводит некорректные данные, программа должна выводить сообщение об ошибке и продолжать работу.  \n",
        "  - Для выхода из программы пользователь должен ввести `\"стоп\"`.\n",
        "\n",
        "  Пример:  \n",
        "    ```\n",
        "    Введите число: 10  \n",
        "    Введите число: текст  \n",
        "    Ошибка: это не число.  \n",
        "    Введите число: стоп  \n",
        "    Итоговый список: [10]\n",
        "    ```"
      ],
      "metadata": {
        "id": "-XGCqB2zo4G_"
      }
    },
    {
      "cell_type": "code",
      "source": [
        "numbers = []\n",
        "\n",
        "while True:\n",
        "    user_input = input(\"Введите число (или 'стоп' для выхода): \")\n",
        "    if user_input.lower() == \"стоп\":\n",
        "        break\n",
        "    try:\n",
        "        num = int(user_input)\n",
        "        numbers.append(num)\n",
        "    except ValueError:\n",
        "        print(\"Ошибка: это не число.\")\n",
        "\n",
        "print(\"Итоговый список:\", numbers)\n"
      ],
      "metadata": {
        "id": "93pustD1o_hy",
        "colab": {
          "base_uri": "https://localhost:8080/"
        },
        "outputId": "6aa91bf3-29e8-4993-9381-001d0e0460b2"
      },
      "execution_count": 46,
      "outputs": [
        {
          "output_type": "stream",
          "name": "stdout",
          "text": [
            "Введите число (или 'стоп' для выхода): 10\n",
            "Введите число (или 'стоп' для выхода): 5\n",
            "Введите число (или 'стоп' для выхода): b\n",
            "Ошибка: это не число.\n",
            "Введите число (или 'стоп' для выхода): стоп\n",
            "Итоговый список: [10, 5]\n"
          ]
        }
      ]
    }
  ]
}